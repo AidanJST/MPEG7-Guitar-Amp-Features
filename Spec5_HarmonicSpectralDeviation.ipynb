{
 "cells": [
  {
   "cell_type": "code",
   "execution_count": 2,
   "id": "cbf3c659",
   "metadata": {},
   "outputs": [],
   "source": [
    "import librosa\n",
    "import librosa.display\n",
    "import IPython.display as ipd\n",
    "import matplotlib.pyplot as plt\n",
    "import numpy as np"
   ]
  },
  {
   "cell_type": "code",
   "execution_count": 3,
   "id": "06927462",
   "metadata": {},
   "outputs": [],
   "source": [
    "def get_harmonics(peaks, fundamental):\n",
    "    harmonics = []\n",
    "    harmonics_even = []\n",
    "    harmonics_odd = []\n",
    "    \n",
    "    for h in range(2, 12):\n",
    "        for i in range(len(peaks)):\n",
    "            freq_ratio = (freqs[peaks[i]]/(h * fundamental))\n",
    "            if np.abs(freq_ratio-1) < 0.02:\n",
    "                harmonics.append(peaks[i])\n",
    "                break\n",
    "            \n",
    "    for j in range(len(harmonics)):\n",
    "        if round(freqs[harmonics[j]]/(fundamental))%2 == 0:\n",
    "            harmonics_even.append(harmonics[j])\n",
    "        else: \n",
    "            harmonics_odd.append(harmonics[j])\n",
    "    \n",
    "    return [harmonics, harmonics_even, harmonics_odd]"
   ]
  },
  {
   "cell_type": "code",
   "execution_count": null,
   "id": "6fb88f7c",
   "metadata": {},
   "outputs": [],
   "source": [
    "def Salience_peaks(STFT, frame, sr=48000, frame_size=4096, hop_length=1024):\n",
    "    S = STFT #np.abs(librosa.stft(Signal, n_fft=frame_size, hop_length=hop_length))\n",
    "    freqs = librosa.core.fft_frequencies(sr, n_fft=FRAME_SIZE)\n",
    "    harms = [1, 2, 3, 4]\n",
    "    weights = [1, 1, 1, 1]\n",
    "    S_sal = librosa.salience(S, freqs, harms, weights, fill_value=0)\n",
    "\n",
    "    \n",
    "    \n",
    "    #peaks of salience for desired frame\n",
    "    magnitude_spectrum = np.abs(S_sal.T[frame]) \n",
    "    \n",
    "    #peak find\n",
    "    peaks, _ = sig.find_peaks(magnitude_spectrum, prominence=0.01)\n",
    "    #peaks = peaks[:int(len(peaks)/2)]\n",
    "\n",
    "    return peaks"
   ]
  }
 ],
 "metadata": {
  "hide_input": false,
  "kernelspec": {
   "display_name": "Python 3",
   "language": "python",
   "name": "python3"
  },
  "language_info": {
   "codemirror_mode": {
    "name": "ipython",
    "version": 3
   },
   "file_extension": ".py",
   "mimetype": "text/x-python",
   "name": "python",
   "nbconvert_exporter": "python",
   "pygments_lexer": "ipython3",
   "version": "3.8.8"
  },
  "toc": {
   "base_numbering": 1,
   "nav_menu": {},
   "number_sections": true,
   "sideBar": true,
   "skip_h1_title": false,
   "title_cell": "Table of Contents",
   "title_sidebar": "Contents",
   "toc_cell": false,
   "toc_position": {},
   "toc_section_display": true,
   "toc_window_display": false
  },
  "varInspector": {
   "cols": {
    "lenName": 16,
    "lenType": 16,
    "lenVar": 40
   },
   "kernels_config": {
    "python": {
     "delete_cmd_postfix": "",
     "delete_cmd_prefix": "del ",
     "library": "var_list.py",
     "varRefreshCmd": "print(var_dic_list())"
    },
    "r": {
     "delete_cmd_postfix": ") ",
     "delete_cmd_prefix": "rm(",
     "library": "var_list.r",
     "varRefreshCmd": "cat(var_dic_list()) "
    }
   },
   "types_to_exclude": [
    "module",
    "function",
    "builtin_function_or_method",
    "instance",
    "_Feature"
   ],
   "window_display": false
  }
 },
 "nbformat": 4,
 "nbformat_minor": 5
}
