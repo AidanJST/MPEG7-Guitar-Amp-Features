{
 "cells": [
  {
   "cell_type": "code",
   "execution_count": 1,
   "id": "f30665c8",
   "metadata": {
    "ExecuteTime": {
     "end_time": "2022-01-17T11:55:28.250122Z",
     "start_time": "2022-01-17T11:55:26.797809Z"
    }
   },
   "outputs": [],
   "source": [
    "import librosa\n",
    "import librosa.display\n",
    "import IPython.display as ipd\n",
    "import matplotlib.pyplot as plt\n",
    "import numpy as np"
   ]
  },
  {
   "cell_type": "code",
   "execution_count": 2,
   "id": "cb275062",
   "metadata": {
    "ExecuteTime": {
     "end_time": "2022-01-17T11:55:28.297164Z",
     "start_time": "2022-01-17T11:55:28.251124Z"
    }
   },
   "outputs": [],
   "source": [
    "def SpectralVariation(Signal, frame_size, hop_length):\n",
    "    \n",
    "    STFT = librosa.stft(Signal, n_fft=FRAME_SIZE, hop_length=hop_length)\n",
    "    Y = np.abs(STFT) ** 2\n",
    "    \n",
    "    previous_frame_freq = 0\n",
    "    current_frame_freq = 0\n",
    "    sq_previous = 0\n",
    "    sq_current = 0\n",
    "    numerator_sum = 0\n",
    "    sum_sq_previous = 0\n",
    "    sum_sq_current = 0\n",
    "    denom = 0\n",
    "    SpectralVar = []\n",
    "    \n",
    "    for t in range(len(Y.T)-1):\n",
    "\n",
    "        for freq_bin in range(len(Y)):\n",
    "            previous_frame_freq = Y.T[t][freq_bin] #a(t-1, freq_bin)\n",
    "            current_frame_freq = Y.T[t+1][freq_bin] #a(t, freq_bin)\n",
    "\n",
    "            numerator_sum += previous_frame_freq*current_frame_freq #Sigma(a(t-1, freq_bin)*a(t, freq_bin))\n",
    "\n",
    "            sum_sq_previous += Y.T[t][freq_bin]**2 #Sigma(a(t-1, freq_bin)**2)\n",
    "            sum_sq_current += Y.T[t+1][freq_bin]**2 #Sigma(a(t, freq_bin)**2)\n",
    "\n",
    "            denom = np.sqrt(sum_sq_previous) * np.sqrt(sum_sq_current)\n",
    "    \n",
    "        variation = 1 - (numerator_sum/denom)\n",
    "        variation = round(variation, 5)\n",
    "        SpectralVar.append(variation)\n",
    "    \n",
    "    return SpectralVar"
   ]
  },
  {
   "cell_type": "code",
   "execution_count": 3,
   "id": "8e63a40f",
   "metadata": {
    "ExecuteTime": {
     "end_time": "2022-01-17T11:55:28.312956Z",
     "start_time": "2022-01-17T11:55:28.298165Z"
    },
    "code_folding": []
   },
   "outputs": [],
   "source": [
    "def SpecVar_error(Sig_compare, Sig_ref, Frame_Size, Hop_length, sr=48000):\n",
    "    SV_Sig_compare = SpectralVariation(Sig_compare, frame_size=Frame_Size, hop_length=Hop_length)\n",
    "    SV_Sig_ref     = SpectralVariation(Sig_ref, frame_size=Frame_Size, hop_length=Hop_length)\n",
    "    \n",
    "    frame_1s = librosa.time_to_frames(1, hop_length=HOP_SIZE, sr=sr )\n",
    "    frame_2s = librosa.time_to_frames(2, hop_length=HOP_SIZE, sr=sr )\n",
    "    frame_3s = librosa.time_to_frames(3, hop_length=HOP_SIZE, sr=sr )\n",
    "    frame_4s = librosa.time_to_frames(4, hop_length=HOP_SIZE, sr=sr )\n",
    "    frame_5s = librosa.time_to_frames(5, hop_length=HOP_SIZE, sr=sr )\n",
    "    \n",
    "    cum_ratio = 0\n",
    "    \n",
    "    for i in range(len(SV_Sig_ref)):\n",
    "        cum_ratio += ((SV_Sig_compare[i]/SV_Sig_ref[i]) - 1)\n",
    "\n",
    "        if i == (frame_1s):\n",
    "            ratio0_1 = cum_ratio\n",
    "        if i == (frame_2s):\n",
    "            ratio1_2 = cum_ratio - ratio0_1\n",
    "        if i == (frame_3s):\n",
    "            ratio2_3 = cum_ratio - ratio1_2 - ratio0_1\n",
    "        if i == (frame_4s):\n",
    "            ratio3_4 = cum_ratio - ratio2_3 - ratio1_2 - ratio0_1\n",
    "        if i == (frame_5s-1):\n",
    "            ratio4_5 = cum_ratio - ratio3_4 - ratio2_3 - ratio1_2 - ratio0_1\n",
    "\n",
    "    average0_1sec = ratio0_1/(frame_1s+1) * 100\n",
    "    average1_2sec = ratio1_2/(frame_1s+1) * 100\n",
    "    average2_3sec = ratio2_3/(frame_1s+1) * 100\n",
    "    average3_4sec = ratio3_4/(frame_1s+1) * 100\n",
    "    average4_5sec = ratio4_5/(frame_1s+1) * 100\n",
    "    \n",
    "    average0_1sec = round(average0_1sec,2)\n",
    "    average1_2sec = round(average1_2sec,2)\n",
    "    average2_3sec = round(average2_3sec,2)\n",
    "    average3_4sec = round(average3_4sec,2)\n",
    "    average4_5sec = round(average4_5sec,2)\n",
    "    \n",
    "    average_tot = cum_ratio/(len(SV_Sig_ref)+1) * 100\n",
    "    average_tot = round(average_tot,2)\n",
    "    \n",
    "    return [average0_1sec, average1_2sec, average2_3sec, average3_4sec, average4_5sec, average_tot]"
   ]
  },
  {
   "cell_type": "markdown",
   "id": "250acd2d",
   "metadata": {
    "heading_collapsed": true
   },
   "source": [
    "## E Chord"
   ]
  },
  {
   "cell_type": "code",
   "execution_count": 4,
   "id": "9f7b6c4c",
   "metadata": {
    "ExecuteTime": {
     "end_time": "2022-01-17T11:55:28.360222Z",
     "start_time": "2022-01-17T11:55:28.313959Z"
    },
    "hidden": true
   },
   "outputs": [],
   "source": [
    "Dry_E_Chord_Hi, sr = librosa.load(\"Renders/EChord/HiAttack/Dry_E_Chord_Hi.wav\", sr=48000, duration=5, mono=1)\n",
    "Dry_E_Chord_Med, _ = librosa.load(\"Renders/EChord/MedAttack/Dry_E_Chord_Med.wav\", sr=48000, duration=5, mono=1)\n",
    "Dry_E_Chord_Lo, _ = librosa.load(\"Renders/EChord/LoAttack/Dry_E_Chord_Lo.wav\", sr=48000, duration=5, mono=1)\n",
    "\n",
    "#VOX HIGH GAIN\n",
    "Vox_Hi_Gain_E_Chord_Hi, _ = librosa.load(\"Renders/EChord/HiAttack/Vox_Hi_Gain_E_Chord_Hi.wav\", duration=5, sr=48000, mono=1)\n",
    "Vox_Hi_Gain_E_Chord_Med, _ = librosa.load(\"Renders/EChord/MedAttack/Vox_Hi_Gain_E_Chord_Med.wav\", sr=48000, duration=5, mono=1)\n",
    "Vox_Hi_Gain_E_Chord_Lo, _ = librosa.load(\"Renders/EChord/LoAttack/Vox_Hi_Gain_E_Chord_Lo.wav\", sr=48000, duration=5, mono=1)\n",
    "\n",
    "#VOX MED GAIN\n",
    "Vox_Med_Gain_E_Chord_Hi, _ = librosa.load(\"Renders/EChord/HiAttack/Vox_Med_Gain_E_Chord_Hi.wav\", sr=48000, duration=5, mono=1)\n",
    "Vox_Med_Gain_E_Chord_Med, _ = librosa.load(\"Renders/EChord/MedAttack/Vox_Med_Gain_E_Chord_Med.wav\", sr=48000, duration=5, mono=1)\n",
    "Vox_Med_Gain_E_Chord_Lo, _ = librosa.load(\"Renders/EChord/LoAttack/Vox_Med_Gain_E_Chord_Lo.wav\", sr=48000, duration=5, mono=1)\n",
    "\n",
    "#VOX LOW GAIN\n",
    "Vox_Low_Gain_E_Chord_Hi, _ = librosa.load(\"Renders/EChord/HiAttack/Vox_Lo_Gain_E_Chord_Hi.wav\", sr=48000, duration=5, mono=1)\n",
    "Vox_Low_Gain_E_Chord_Med, _ = librosa.load(\"Renders/EChord/MedAttack/Vox_Lo_Gain_E_Chord_Med.wav\", sr=48000, duration=5, mono=1)\n",
    "Vox_Low_Gain_E_Chord_Lo, _ = librosa.load(\"Renders/EChord/LoAttack/Vox_Lo_Gain_E_Chord_Lo.wav\", sr=48000, duration=5, mono=1)\n",
    "\n",
    "#Normalise\n",
    "Dry_E_Chord_Hi = librosa.util.normalize(Dry_E_Chord_Hi)\n",
    "Dry_E_Chord_Med = librosa.util.normalize(Dry_E_Chord_Med)\n",
    "Dry_E_Chord_Lo = librosa.util.normalize(Dry_E_Chord_Lo)\n",
    "\n",
    "#VOX HIGH GAIN\n",
    "Vox_Hi_Gain_E_Chord_Hi = librosa.util.normalize(Vox_Hi_Gain_E_Chord_Hi)\n",
    "Vox_Hi_Gain_E_Chord_Med = librosa.util.normalize(Vox_Hi_Gain_E_Chord_Med)\n",
    "Vox_Hi_Gain_E_Chord_Lo = librosa.util.normalize(Vox_Hi_Gain_E_Chord_Lo)\n",
    "\n",
    "#VOX MED GAIN\n",
    "Vox_Med_Gain_E_Chord_Hi = librosa.util.normalize(Vox_Med_Gain_E_Chord_Hi)\n",
    "Vox_Med_Gain_E_Chord_Med = librosa.util.normalize(Vox_Med_Gain_E_Chord_Med)\n",
    "Vox_Med_Gain_E_Chord_Lo = librosa.util.normalize(Vox_Med_Gain_E_Chord_Lo)\n",
    "\n",
    "#VOX LOW GAIN\n",
    "Vox_Low_Gain_E_Chord_Hi = librosa.util.normalize(Vox_Low_Gain_E_Chord_Hi)\n",
    "Vox_Low_Gain_E_Chord_Med = librosa.util.normalize(Vox_Low_Gain_E_Chord_Med)\n",
    "Vox_Low_Gain_E_Chord_Lo = librosa.util.normalize(Vox_Low_Gain_E_Chord_Lo)"
   ]
  },
  {
   "cell_type": "code",
   "execution_count": 5,
   "id": "02115a10",
   "metadata": {
    "ExecuteTime": {
     "end_time": "2022-01-17T11:55:28.390249Z",
     "start_time": "2022-01-17T11:55:28.361224Z"
    },
    "hidden": true
   },
   "outputs": [],
   "source": [
    "#JFET HIGH GAIN\n",
    "JFET_Hi_Gain_E_Chord_Hi, _ = librosa.load(\"Renders/EChord/HiAttack/JFET_Hi_Gain_E_Chord_Hi.wav\", sr=48000, duration=5, mono=1)\n",
    "JFET_Hi_Gain_E_Chord_Med, _ = librosa.load(\"Renders/EChord/MedAttack/JFET_Hi_Gain_E_Chord_Med.wav\", sr=48000, duration=5, mono=1)\n",
    "JFET_Hi_Gain_E_Chord_Lo, _ = librosa.load(\"Renders/EChord/LoAttack/JFET_Hi_Gain_E_Chord_Lo.wav\", sr=48000, duration=5, mono=1)\n",
    "\n",
    "#JFET MED GAIN\n",
    "JFET_Med_Gain_E_Chord_Hi, _ = librosa.load(\"Renders/EChord/HiAttack/JFET_Med_Gain_E_Chord_Hi.wav\", sr=48000, duration=5, mono=1)\n",
    "JFET_Med_Gain_E_Chord_Med, _ = librosa.load(\"Renders/EChord/MedAttack/JFET_Med_Gain_E_Chord_Med.wav\", sr=48000, duration=5, mono=1)\n",
    "JFET_Med_Gain_E_Chord_Lo, _ = librosa.load(\"Renders/EChord/LoAttack/JFET_Med_Gain_E_Chord_Lo.wav\", sr=48000, duration=5, mono=1)\n",
    "\n",
    "#JFET LOW GAIN\n",
    "JFET_Low_Gain_E_Chord_Hi, _ = librosa.load(\"Renders/EChord/HiAttack/JFET_Lo_Gain_E_Chord_Hi.wav\", sr=48000, duration=5, mono=1)\n",
    "JFET_Low_Gain_E_Chord_Med, _ = librosa.load(\"Renders/EChord/MedAttack/JFET_Lo_Gain_E_Chord_Med.wav\", sr=48000, duration=5, mono=1)\n",
    "JFET_Low_Gain_E_Chord_Lo, _ = librosa.load(\"Renders/EChord/LoAttack/JFET_Lo_Gain_E_Chord_Lo.wav\", sr=48000, duration=5, mono=1)\n",
    "\n",
    "#Normalise\n",
    "\n",
    "#JFET HIGH GAIN\n",
    "JFET_Hi_Gain_E_Chord_Hi = librosa.util.normalize(JFET_Hi_Gain_E_Chord_Hi)\n",
    "JFET_Hi_Gain_E_Chord_Med = librosa.util.normalize(JFET_Hi_Gain_E_Chord_Med)\n",
    "JFET_Hi_Gain_E_Chord_Lo = librosa.util.normalize(JFET_Hi_Gain_E_Chord_Lo)\n",
    "\n",
    "#JFET MED GAIN\n",
    "JFET_Med_Gain_E_Chord_Hi = librosa.util.normalize(JFET_Med_Gain_E_Chord_Hi)\n",
    "JFET_Med_Gain_E_Chord_Med = librosa.util.normalize(JFET_Med_Gain_E_Chord_Med)\n",
    "JFET_Med_Gain_E_Chord_Lo = librosa.util.normalize(JFET_Med_Gain_E_Chord_Lo)\n",
    "\n",
    "#JFET LOW GAIN\n",
    "JFET_Low_Gain_E_Chord_Hi = librosa.util.normalize(JFET_Low_Gain_E_Chord_Hi)\n",
    "JFET_Low_Gain_E_Chord_Med = librosa.util.normalize(JFET_Low_Gain_E_Chord_Med)\n",
    "JFET_Low_Gain_E_Chord_Lo = librosa.util.normalize(JFET_Low_Gain_E_Chord_Lo)"
   ]
  },
  {
   "cell_type": "markdown",
   "id": "f3829bd1",
   "metadata": {
    "heading_collapsed": true
   },
   "source": [
    "# E2 String"
   ]
  },
  {
   "cell_type": "code",
   "execution_count": 6,
   "id": "a1ffcf09",
   "metadata": {
    "ExecuteTime": {
     "end_time": "2022-01-17T11:55:28.438285Z",
     "start_time": "2022-01-17T11:55:28.391251Z"
    },
    "hidden": true
   },
   "outputs": [],
   "source": [
    "Dry_E2_String_Hi, sr = librosa.load(\"Renders/E2String/HiAttack/Dry_E2_String_Hi.wav\", sr=48000, duration=5)\n",
    "Dry_E2_String_Med, _ = librosa.load(\"Renders/E2String/MedAttack/Dry_E2_String_Med.wav\", sr=48000, duration=5)\n",
    "Dry_E2_String_Lo, _ = librosa.load(\"Renders/E2String/LoAttack/Dry_E2_String_Lo.wav\", sr=48000, duration=5)\n",
    "\n",
    "#VOX HIGH GAIN\n",
    "Vox_Hi_Gain_E2_String_Hi, _ = librosa.load(\"Renders/E2String/HiAttack/Vox_Hi_Gain_E2_String_Hi.wav\", sr=48000, duration=5)\n",
    "Vox_Hi_Gain_E2_String_Med, _ = librosa.load(\"Renders/E2String/MedAttack/Vox_Hi_Gain_E2_String_Med.wav\", sr=48000, duration=5)\n",
    "Vox_Hi_Gain_E2_String_Lo, _ = librosa.load(\"Renders/E2String/LoAttack/Vox_Hi_Gain_E2_String_Lo.wav\", sr=48000, duration=5)\n",
    "\n",
    "#VOX MED GAIN\n",
    "Vox_Med_Gain_E2_String_Hi, _ = librosa.load(\"Renders/E2String/HiAttack/Vox_Med_Gain_E2_String_Hi.wav\", sr=48000, duration=5)\n",
    "Vox_Med_Gain_E2_String_Med, _ = librosa.load(\"Renders/E2String/MedAttack/Vox_Med_Gain_E2_String_Med.wav\", sr=48000, duration=5)\n",
    "Vox_Med_Gain_E2_String_Lo, _ = librosa.load(\"Renders/E2String/LoAttack/Vox_Med_Gain_E2_String_Lo.wav\", sr=48000, duration=5)\n",
    "\n",
    "#VOX LOW GAIN\n",
    "Vox_Low_Gain_E2_String_Hi, _ = librosa.load(\"Renders/E2String/HiAttack/Vox_Lo_Gain_E2_String_Hi.wav\", sr=48000, duration=5)\n",
    "Vox_Low_Gain_E2_String_Med, _ = librosa.load(\"Renders/E2String/MedAttack/Vox_Lo_Gain_E2_String_Med.wav\", sr=48000, duration=5)\n",
    "Vox_Low_Gain_E2_String_Lo, _ = librosa.load(\"Renders/E2String/LoAttack/Vox_Lo_Gain_E2_String_Lo.wav\", sr=48000, duration=5)\n",
    "\n",
    "#Normalise\n",
    "Dry_E2_String_Hi = librosa.util.normalize(Dry_E2_String_Hi)\n",
    "Dry_E2_String_Med = librosa.util.normalize(Dry_E2_String_Med)\n",
    "Dry_E2_String_Lo = librosa.util.normalize(Dry_E2_String_Lo)\n",
    "\n",
    "#VOX HIGH GAIN\n",
    "Vox_Hi_Gain_E2_String_Hi = librosa.util.normalize(Vox_Hi_Gain_E2_String_Hi)\n",
    "Vox_Hi_Gain_E2_String_Med = librosa.util.normalize(Vox_Hi_Gain_E2_String_Med)\n",
    "Vox_Hi_Gain_E2_String_Lo = librosa.util.normalize(Vox_Hi_Gain_E2_String_Lo)\n",
    "\n",
    "#VOX MED GAIN\n",
    "Vox_Med_Gain_E2_String_Hi = librosa.util.normalize(Vox_Med_Gain_E2_String_Hi)\n",
    "Vox_Med_Gain_E2_String_Med = librosa.util.normalize(Vox_Med_Gain_E2_String_Med)\n",
    "Vox_Med_Gain_E2_String_Lo = librosa.util.normalize(Vox_Med_Gain_E2_String_Lo)\n",
    "\n",
    "#VOX LOW GAIN\n",
    "Vox_Low_Gain_E2_String_Hi = librosa.util.normalize(Vox_Low_Gain_E2_String_Hi)\n",
    "Vox_Low_Gain_E2_String_Med = librosa.util.normalize(Vox_Low_Gain_E2_String_Med)\n",
    "Vox_Low_Gain_E2_String_Lo = librosa.util.normalize(Vox_Low_Gain_E2_String_Lo)"
   ]
  },
  {
   "cell_type": "code",
   "execution_count": 7,
   "id": "511bc027",
   "metadata": {
    "ExecuteTime": {
     "end_time": "2022-01-17T11:55:28.469282Z",
     "start_time": "2022-01-17T11:55:28.439287Z"
    },
    "hidden": true
   },
   "outputs": [],
   "source": [
    "#JFET HIGH GAIN\n",
    "JFET_Hi_Gain_E2_String_Hi, _ = librosa.load(\"Renders/E2String/HiAttack/JFET_Hi_Gain_E2_String_Hi.wav\", sr=48000, duration=5)\n",
    "JFET_Hi_Gain_E2_String_Med, _ = librosa.load(\"Renders/E2String/MedAttack/JFET_Hi_Gain_E2_String_Med.wav\", sr=48000, duration=5)\n",
    "JFET_Hi_Gain_E2_String_Lo, _ = librosa.load(\"Renders/E2String/LoAttack/JFET_Hi_Gain_E2_String_Lo.wav\", sr=48000, duration=5)\n",
    "\n",
    "#JFET MED GAIN\n",
    "JFET_Med_Gain_E2_String_Hi, _ = librosa.load(\"Renders/E2String/HiAttack/JFET_Med_Gain_E2_String_Hi.wav\", sr=48000, duration=5)\n",
    "JFET_Med_Gain_E2_String_Med, _ = librosa.load(\"Renders/E2String/MedAttack/JFET_Med_Gain_E2_String_Med.wav\", sr=48000, duration=5)\n",
    "JFET_Med_Gain_E2_String_Lo, _ = librosa.load(\"Renders/E2String/LoAttack/JFET_Med_Gain_E2_String_Lo.wav\", sr=48000, duration=5)\n",
    "\n",
    "#JFET LOW GAIN\n",
    "JFET_Low_Gain_E2_String_Hi, _ = librosa.load(\"Renders/E2String/HiAttack/JFET_Lo_Gain_E2_String_Hi.wav\", sr=48000, duration=5)\n",
    "JFET_Low_Gain_E2_String_Med, _ = librosa.load(\"Renders/E2String/MedAttack/JFET_Lo_Gain_E2_String_Med.wav\", sr=48000, duration=5)\n",
    "JFET_Low_Gain_E2_String_Lo, _ = librosa.load(\"Renders/E2String/LoAttack/JFET_Lo_Gain_E2_String_Lo.wav\", sr=48000, duration=5)\n",
    "\n",
    "#Normalise\n",
    "\n",
    "#JFET HIGH GAIN\n",
    "JFET_Hi_Gain_E2_String_Hi = librosa.util.normalize(JFET_Hi_Gain_E2_String_Hi)\n",
    "JFET_Hi_Gain_E2_String_Med = librosa.util.normalize(JFET_Hi_Gain_E2_String_Med)\n",
    "JFET_Hi_Gain_E2_String_Lo = librosa.util.normalize(JFET_Hi_Gain_E2_String_Lo)\n",
    "\n",
    "#JFET MED GAIN\n",
    "JFET_Med_Gain_E2_String_Hi = librosa.util.normalize(JFET_Med_Gain_E2_String_Hi)\n",
    "JFET_Med_Gain_E2_String_Med = librosa.util.normalize(JFET_Med_Gain_E2_String_Med)\n",
    "JFET_Med_Gain_E2_String_Lo = librosa.util.normalize(JFET_Med_Gain_E2_String_Lo)\n",
    "\n",
    "#JFET LOW GAIN\n",
    "JFET_Low_Gain_E2_String_Hi = librosa.util.normalize(JFET_Low_Gain_E2_String_Hi)\n",
    "JFET_Low_Gain_E2_String_Med = librosa.util.normalize(JFET_Low_Gain_E2_String_Med)\n",
    "JFET_Low_Gain_E2_String_Lo = librosa.util.normalize(JFET_Low_Gain_E2_String_Lo)"
   ]
  },
  {
   "cell_type": "markdown",
   "id": "ef8ff3c7",
   "metadata": {
    "heading_collapsed": true
   },
   "source": [
    "# E4 String "
   ]
  },
  {
   "cell_type": "code",
   "execution_count": 8,
   "id": "3c3f5229",
   "metadata": {
    "ExecuteTime": {
     "end_time": "2022-01-17T11:55:28.517318Z",
     "start_time": "2022-01-17T11:55:28.471285Z"
    },
    "hidden": true
   },
   "outputs": [],
   "source": [
    "Dry_E4_String_Hi, sr = librosa.load(\"Renders/E4String/HiAttack/Dry_E4_String_Hi.wav\", sr=48000, duration=5)\n",
    "Dry_E4_String_Med, _ = librosa.load(\"Renders/E4String/MedAttack/Dry_E4_String_Med.wav\", sr=48000, duration=5)\n",
    "Dry_E4_String_Lo, _ = librosa.load(\"Renders/E4String/LoAttack/Dry_E4_String_Lo.wav\", sr=48000, duration=5)\n",
    "\n",
    "#VOX HIGH GAIN\n",
    "Vox_Hi_Gain_E4_String_Hi, _ = librosa.load(\"Renders/E4String/HiAttack/Vox_Hi_Gain_E4_String_Hi.wav\", sr=48000, duration=5)\n",
    "Vox_Hi_Gain_E4_String_Med, _ = librosa.load(\"Renders/E4String/MedAttack/Vox_Hi_Gain_E4_String_Med.wav\", sr=48000, duration=5)\n",
    "Vox_Hi_Gain_E4_String_Lo, _ = librosa.load(\"Renders/E4String/LoAttack/Vox_Hi_Gain_E4_String_Lo.wav\", sr=48000, duration=5)\n",
    "\n",
    "#VOX MED GAIN\n",
    "Vox_Med_Gain_E4_String_Hi, _ = librosa.load(\"Renders/E4String/HiAttack/Vox_Med_Gain_E4_String_Hi.wav\", sr=48000, duration=5)\n",
    "Vox_Med_Gain_E4_String_Med, _ = librosa.load(\"Renders/E4String/MedAttack/Vox_Med_Gain_E4_String_Med.wav\", sr=48000, duration=5)\n",
    "Vox_Med_Gain_E4_String_Lo, _ = librosa.load(\"Renders/E4String/LoAttack/Vox_Med_Gain_E4_String_Lo.wav\", sr=48000, duration=5)\n",
    "\n",
    "#VOX LOW GAIN\n",
    "Vox_Low_Gain_E4_String_Hi, _ = librosa.load(\"Renders/E4String/HiAttack/Vox_Lo_Gain_E4_String_Hi.wav\", sr=48000, duration=5)\n",
    "Vox_Low_Gain_E4_String_Med, _ = librosa.load(\"Renders/E4String/MedAttack/Vox_Lo_Gain_E4_String_Med.wav\", sr=48000, duration=5)\n",
    "Vox_Low_Gain_E4_String_Lo, _ = librosa.load(\"Renders/E4String/LoAttack/Vox_Lo_Gain_E4_String_Lo.wav\", sr=48000, duration=5)\n",
    "\n",
    "#Normalise\n",
    "Dry_E4_String_Hi = librosa.util.normalize(Dry_E4_String_Hi)\n",
    "Dry_E4_String_Med = librosa.util.normalize(Dry_E4_String_Med)\n",
    "Dry_E4_String_Lo = librosa.util.normalize(Dry_E4_String_Lo)\n",
    "\n",
    "#VOX HIGH GAIN\n",
    "Vox_Hi_Gain_E4_String_Hi = librosa.util.normalize(Vox_Hi_Gain_E4_String_Hi)\n",
    "Vox_Hi_Gain_E4_String_Med = librosa.util.normalize(Vox_Hi_Gain_E4_String_Med)\n",
    "Vox_Hi_Gain_E4_String_Lo = librosa.util.normalize(Vox_Hi_Gain_E4_String_Lo)\n",
    "\n",
    "#VOX MED GAIN\n",
    "Vox_Med_Gain_E4_String_Hi = librosa.util.normalize(Vox_Med_Gain_E4_String_Hi)\n",
    "Vox_Med_Gain_E4_String_Med = librosa.util.normalize(Vox_Med_Gain_E4_String_Med)\n",
    "Vox_Med_Gain_E4_String_Lo = librosa.util.normalize(Vox_Med_Gain_E4_String_Lo)\n",
    "\n",
    "#VOX LOW GAIN\n",
    "Vox_Low_Gain_E4_String_Hi = librosa.util.normalize(Vox_Low_Gain_E4_String_Hi)\n",
    "Vox_Low_Gain_E4_String_Med = librosa.util.normalize(Vox_Low_Gain_E4_String_Med)\n",
    "Vox_Low_Gain_E4_String_Lo = librosa.util.normalize(Vox_Low_Gain_E4_String_Lo)"
   ]
  },
  {
   "cell_type": "code",
   "execution_count": 9,
   "id": "2dbc26a0",
   "metadata": {
    "ExecuteTime": {
     "end_time": "2022-01-17T11:55:28.549213Z",
     "start_time": "2022-01-17T11:55:28.518320Z"
    },
    "hidden": true
   },
   "outputs": [],
   "source": [
    "#JFET HIGH GAIN\n",
    "JFET_Hi_Gain_E4_String_Hi, _ = librosa.load(\"Renders/E4String/HiAttack/JFET_Hi_Gain_E4_String_Hi.wav\", sr=48000, duration=5)\n",
    "JFET_Hi_Gain_E4_String_Med, _ = librosa.load(\"Renders/E4String/MedAttack/JFET_Hi_Gain_E4_String_Med.wav\", sr=48000, duration=5)\n",
    "JFET_Hi_Gain_E4_String_Lo, _ = librosa.load(\"Renders/E4String/LoAttack/JFET_Hi_Gain_E4_String_Lo.wav\", sr=48000, duration=5)\n",
    "\n",
    "#JFET MED GAIN\n",
    "JFET_Med_Gain_E4_String_Hi, _ = librosa.load(\"Renders/E4String/HiAttack/JFET_Med_Gain_E4_String_Hi.wav\", sr=48000, duration=5)\n",
    "JFET_Med_Gain_E4_String_Med, _ = librosa.load(\"Renders/E4String/MedAttack/JFET_Med_Gain_E4_String_Med.wav\", sr=48000, duration=5)\n",
    "JFET_Med_Gain_E4_String_Lo, _ = librosa.load(\"Renders/E4String/LoAttack/JFET_Med_Gain_E4_String_Lo.wav\", sr=48000, duration=5)\n",
    "\n",
    "#JFET LOW GAIN\n",
    "JFET_Low_Gain_E4_String_Hi, _ = librosa.load(\"Renders/E4String/HiAttack/JFET_Lo_Gain_E4_String_Hi.wav\", sr=48000, duration=5)\n",
    "JFET_Low_Gain_E4_String_Med, _ = librosa.load(\"Renders/E4String/MedAttack/JFET_Lo_Gain_E4_String_Med.wav\", sr=48000, duration=5)\n",
    "JFET_Low_Gain_E4_String_Lo, _ = librosa.load(\"Renders/E4String/LoAttack/JFET_Lo_Gain_E4_String_Lo.wav\", sr=48000, duration=5)\n",
    "\n",
    "#Normalise\n",
    "#JFET HIGH GAIN\n",
    "JFET_Hi_Gain_E4_String_Hi = librosa.util.normalize(JFET_Hi_Gain_E4_String_Hi)\n",
    "JFET_Hi_Gain_E4_String_Med = librosa.util.normalize(JFET_Hi_Gain_E4_String_Med)\n",
    "JFET_Hi_Gain_E4_String_Lo = librosa.util.normalize(JFET_Hi_Gain_E4_String_Lo)\n",
    "\n",
    "#JFET MED GAIN\n",
    "JFET_Med_Gain_E4_String_Hi = librosa.util.normalize(JFET_Med_Gain_E4_String_Hi)\n",
    "JFET_Med_Gain_E4_String_Med = librosa.util.normalize(JFET_Med_Gain_E4_String_Med)\n",
    "JFET_Med_Gain_E4_String_Lo = librosa.util.normalize(JFET_Med_Gain_E4_String_Lo)\n",
    "\n",
    "#JFET LOW GAIN\n",
    "JFET_Low_Gain_E4_String_Hi = librosa.util.normalize(JFET_Low_Gain_E4_String_Hi)\n",
    "JFET_Low_Gain_E4_String_Med = librosa.util.normalize(JFET_Low_Gain_E4_String_Med)\n",
    "JFET_Low_Gain_E4_String_Lo = librosa.util.normalize(JFET_Low_Gain_E4_String_Lo)"
   ]
  },
  {
   "cell_type": "markdown",
   "id": "5cb536c7",
   "metadata": {
    "heading_collapsed": true
   },
   "source": [
    "# D Chord"
   ]
  },
  {
   "cell_type": "code",
   "execution_count": 10,
   "id": "88c4e944",
   "metadata": {
    "ExecuteTime": {
     "end_time": "2022-01-17T11:55:28.597096Z",
     "start_time": "2022-01-17T11:55:28.550214Z"
    },
    "hidden": true
   },
   "outputs": [],
   "source": [
    "Dry_D_Chord_Hi, sr = librosa.load(\"Renders/DChord/HiAttack/Dry_D_Chord_Hi.wav\", sr=48000, duration=5)\n",
    "Dry_D_Chord_Med, _ = librosa.load(\"Renders/DChord/MedAttack/Dry_D_Chord_Med.wav\", sr=48000, duration=5)\n",
    "Dry_D_Chord_Lo, _ = librosa.load(\"Renders/DChord/LoAttack/Dry_D_Chord_Lo.wav\", sr=48000, duration=5)\n",
    "\n",
    "#VOX HIGH GAIN\n",
    "Vox_Hi_Gain_D_Chord_Hi, _ = librosa.load(\"Renders/DChord/HiAttack/Vox_Hi_Gain_D_Chord_Hi.wav\", sr=48000, duration=5)\n",
    "Vox_Hi_Gain_D_Chord_Med, _ = librosa.load(\"Renders/DChord/MedAttack/Vox_Hi_Gain_D_Chord_Med.wav\", sr=48000, duration=5)\n",
    "Vox_Hi_Gain_D_Chord_Lo, _ = librosa.load(\"Renders/DChord/LoAttack/Vox_Hi_Gain_D_Chord_Lo.wav\", sr=48000, duration=5)\n",
    "\n",
    "#VOX MED GAIN\n",
    "Vox_Med_Gain_D_Chord_Hi, _ = librosa.load(\"Renders/DChord/HiAttack/Vox_Med_Gain_D_Chord_Hi.wav\", sr=48000, duration=5)\n",
    "Vox_Med_Gain_D_Chord_Med, _ = librosa.load(\"Renders/DChord/MedAttack/Vox_Med_Gain_D_Chord_Med.wav\", sr=48000, duration=5)\n",
    "Vox_Med_Gain_D_Chord_Lo, _ = librosa.load(\"Renders/DChord/LoAttack/Vox_Med_Gain_D_Chord_Lo.wav\", sr=48000, duration=5)\n",
    "\n",
    "#VOX LOW GAIN\n",
    "Vox_Low_Gain_D_Chord_Hi, _ = librosa.load(\"Renders/DChord/HiAttack/Vox_Lo_Gain_D_Chord_Hi.wav\", sr=48000, duration=5)\n",
    "Vox_Low_Gain_D_Chord_Med, _ = librosa.load(\"Renders/DChord/MedAttack/Vox_Lo_Gain_D_Chord_Med.wav\", sr=48000, duration=5)\n",
    "Vox_Low_Gain_D_Chord_Lo, _ = librosa.load(\"Renders/DChord/LoAttack/Vox_Lo_Gain_D_Chord_Lo.wav\", sr=48000, duration=5)\n",
    "\n",
    "#Normalise\n",
    "Dry_D_Chord_Hi = librosa.util.normalize(Dry_D_Chord_Hi)\n",
    "Dry_D_Chord_Med = librosa.util.normalize(Dry_D_Chord_Med)\n",
    "Dry_D_Chord_Lo = librosa.util.normalize(Dry_D_Chord_Lo)\n",
    "\n",
    "#VOX HIGH GAIN\n",
    "Vox_Hi_Gain_D_Chord_Hi = librosa.util.normalize(Vox_Hi_Gain_D_Chord_Hi)\n",
    "Vox_Hi_Gain_D_Chord_Med = librosa.util.normalize(Vox_Hi_Gain_D_Chord_Med)\n",
    "Vox_Hi_Gain_D_Chord_Lo = librosa.util.normalize(Vox_Hi_Gain_D_Chord_Lo)\n",
    "\n",
    "#VOX MED GAIN\n",
    "Vox_Med_Gain_D_Chord_Hi = librosa.util.normalize(Vox_Med_Gain_D_Chord_Hi)\n",
    "Vox_Med_Gain_D_Chord_Med = librosa.util.normalize(Vox_Med_Gain_D_Chord_Med)\n",
    "Vox_Med_Gain_D_Chord_Lo = librosa.util.normalize(Vox_Med_Gain_D_Chord_Lo)\n",
    "\n",
    "#VOX LOW GAIN\n",
    "Vox_Low_Gain_D_Chord_Hi = librosa.util.normalize(Vox_Low_Gain_D_Chord_Hi)\n",
    "Vox_Low_Gain_D_Chord_Med = librosa.util.normalize(Vox_Low_Gain_D_Chord_Med)\n",
    "Vox_Low_Gain_D_Chord_Lo = librosa.util.normalize(Vox_Low_Gain_D_Chord_Lo)"
   ]
  },
  {
   "cell_type": "code",
   "execution_count": 11,
   "id": "23d1b593",
   "metadata": {
    "ExecuteTime": {
     "end_time": "2022-01-17T11:55:28.628995Z",
     "start_time": "2022-01-17T11:55:28.598097Z"
    },
    "hidden": true
   },
   "outputs": [],
   "source": [
    "#JFET HIGH GAIN\n",
    "JFET_Hi_Gain_D_Chord_Hi, _ = librosa.load(\"Renders/DChord/HiAttack/JFET_Hi_Gain_D_Chord_Hi.wav\", sr=48000, duration=5)\n",
    "JFET_Hi_Gain_D_Chord_Med, _ = librosa.load(\"Renders/DChord/MedAttack/JFET_Hi_Gain_D_Chord_Med.wav\", sr=48000, duration=5)\n",
    "JFET_Hi_Gain_D_Chord_Lo, _ = librosa.load(\"Renders/DChord/LoAttack/JFET_Hi_Gain_D_Chord_Lo.wav\", sr=48000, duration=5)\n",
    "\n",
    "#JFET MED GAIN\n",
    "JFET_Med_Gain_D_Chord_Hi, _ = librosa.load(\"Renders/DChord/HiAttack/JFET_Med_Gain_D_Chord_Hi.wav\", sr=48000, duration=5)\n",
    "JFET_Med_Gain_D_Chord_Med, _ = librosa.load(\"Renders/DChord/MedAttack/JFET_Med_Gain_D_Chord_Med.wav\", sr=48000, duration=5)\n",
    "JFET_Med_Gain_D_Chord_Lo, _ = librosa.load(\"Renders/DChord/LoAttack/JFET_Med_Gain_D_Chord_Lo.wav\", sr=48000, duration=5)\n",
    "\n",
    "#JFET LOW GAIN\n",
    "JFET_Low_Gain_D_Chord_Hi, _ = librosa.load(\"Renders/DChord/HiAttack/JFET_Lo_Gain_D_Chord_Hi.wav\", sr=48000, duration=5)\n",
    "JFET_Low_Gain_D_Chord_Med, _ = librosa.load(\"Renders/DChord/MedAttack/JFET_Lo_Gain_D_Chord_Med.wav\", sr=48000, duration=5)\n",
    "JFET_Low_Gain_D_Chord_Lo, _ = librosa.load(\"Renders/DChord/LoAttack/JFET_Lo_Gain_D_Chord_Lo.wav\", sr=48000, duration=5)\n",
    "\n",
    "#Normalise\n",
    "#JFET HIGH GAIN\n",
    "JFET_Hi_Gain_D_Chord_Hi = librosa.util.normalize(JFET_Hi_Gain_D_Chord_Hi)\n",
    "JFET_Hi_Gain_D_Chord_Med = librosa.util.normalize(JFET_Hi_Gain_D_Chord_Med)\n",
    "JFET_Hi_Gain_D_Chord_Lo = librosa.util.normalize(JFET_Hi_Gain_D_Chord_Lo)\n",
    "\n",
    "#JFET MED GAIN\n",
    "JFET_Med_Gain_D_Chord_Hi = librosa.util.normalize(JFET_Med_Gain_D_Chord_Hi)\n",
    "JFET_Med_Gain_D_Chord_Med = librosa.util.normalize(JFET_Med_Gain_D_Chord_Med)\n",
    "JFET_Med_Gain_D_Chord_Lo = librosa.util.normalize(JFET_Med_Gain_D_Chord_Lo)\n",
    "\n",
    "#JFET LOW GAIN\n",
    "JFET_Low_Gain_D_Chord_Hi = librosa.util.normalize(JFET_Low_Gain_D_Chord_Hi)\n",
    "JFET_Low_Gain_D_Chord_Med = librosa.util.normalize(JFET_Low_Gain_D_Chord_Med)\n",
    "JFET_Low_Gain_D_Chord_Lo = librosa.util.normalize(JFET_Low_Gain_D_Chord_Lo)"
   ]
  },
  {
   "cell_type": "markdown",
   "id": "ae88063c",
   "metadata": {
    "heading_collapsed": true
   },
   "source": [
    "# D3 String"
   ]
  },
  {
   "cell_type": "code",
   "execution_count": 12,
   "id": "b625cfb2",
   "metadata": {
    "ExecuteTime": {
     "end_time": "2022-01-17T11:55:28.661025Z",
     "start_time": "2022-01-17T11:55:28.629998Z"
    },
    "hidden": true
   },
   "outputs": [],
   "source": [
    "Dry_D3_String_Hi, sr = librosa.load(\"Renders/D3String/HiAttack/Dry_D3_String_Hi.wav\", sr=48000, duration=5)\n",
    "Dry_D3_String_Med, _ = librosa.load(\"Renders/D3String/MedAttack/Dry_D3_String_Med.wav\", sr=48000, duration=5)\n",
    "Dry_D3_String_Lo, _ = librosa.load(\"Renders/D3String/LoAttack/Dry_D3_String_Lo.wav\", sr=48000, duration=5)\n",
    "\n",
    "#VOX HIGH GAIN\n",
    "Vox_Hi_Gain_D3_String_Hi, _ = librosa.load(\"Renders/D3String/HiAttack/Vox_Hi_Gain_D3_String_Hi.wav\", sr=48000, duration=5)\n",
    "Vox_Hi_Gain_D3_String_Med, _ = librosa.load(\"Renders/D3String/MedAttack/Vox_Hi_Gain_D3_String_Med.wav\", sr=48000, duration=5)\n",
    "Vox_Hi_Gain_D3_String_Lo, _ = librosa.load(\"Renders/D3String/LoAttack/Vox_Hi_Gain_D3_String_Lo.wav\", sr=48000, duration=5)\n",
    "\n",
    "#VOX MED GAIN\n",
    "Vox_Med_Gain_D3_String_Hi, _ = librosa.load(\"Renders/D3String/HiAttack/Vox_Med_Gain_D3_String_Hi.wav\", sr=48000, duration=5)\n",
    "Vox_Med_Gain_D3_String_Med, _ = librosa.load(\"Renders/D3String/MedAttack/Vox_Med_Gain_D3_String_Med.wav\", sr=48000, duration=5)\n",
    "Vox_Med_Gain_D3_String_Lo, _ = librosa.load(\"Renders/D3String/LoAttack/Vox_Med_Gain_D3_String_Lo.wav\", sr=48000, duration=5)\n",
    "\n",
    "#VOX LOW GAIN\n",
    "Vox_Low_Gain_D3_String_Hi, _ = librosa.load(\"Renders/D3String/HiAttack/Vox_Lo_Gain_D3_String_Hi.wav\", sr=48000, duration=5)\n",
    "Vox_Low_Gain_D3_String_Med, _ = librosa.load(\"Renders/D3String/MedAttack/Vox_Lo_Gain_D3_String_Med.wav\", sr=48000, duration=5)\n",
    "Vox_Low_Gain_D3_String_Lo, _ = librosa.load(\"Renders/D3String/LoAttack/Vox_Lo_Gain_D3_String_Lo.wav\", sr=48000, duration=5)\n",
    "\n",
    "#Normalise\n",
    "Dry_D3_String_Hi = librosa.util.normalize(Dry_D3_String_Hi)\n",
    "Dry_D3_String_Med = librosa.util.normalize(Dry_D3_String_Med)\n",
    "Dry_D3_String_Lo = librosa.util.normalize(Dry_D3_String_Lo)\n",
    "\n",
    "#VOX HIGH GAIN\n",
    "Vox_Hi_Gain_D3_String_Hi = librosa.util.normalize(Vox_Hi_Gain_D3_String_Hi)\n",
    "Vox_Hi_Gain_D3_String_Med = librosa.util.normalize(Vox_Hi_Gain_D3_String_Med)\n",
    "Vox_Hi_Gain_D3_String_Lo = librosa.util.normalize(Vox_Hi_Gain_D3_String_Lo)\n",
    "\n",
    "#VOX MED GAIN\n",
    "Vox_Med_Gain_D3_String_Hi = librosa.util.normalize(Vox_Med_Gain_D3_String_Hi)\n",
    "Vox_Med_Gain_D3_String_Med = librosa.util.normalize(Vox_Med_Gain_D3_String_Med)\n",
    "Vox_Med_Gain_D3_String_Lo = librosa.util.normalize(Vox_Med_Gain_D3_String_Lo)\n",
    "\n",
    "#VOX LOW GAIN\n",
    "Vox_Low_Gain_D3_String_Hi = librosa.util.normalize(Vox_Low_Gain_D3_String_Hi)\n",
    "Vox_Low_Gain_D3_String_Med = librosa.util.normalize(Vox_Low_Gain_D3_String_Med)\n",
    "Vox_Low_Gain_D3_String_Lo = librosa.util.normalize(Vox_Low_Gain_D3_String_Lo)"
   ]
  },
  {
   "cell_type": "code",
   "execution_count": 13,
   "id": "80780d38",
   "metadata": {
    "ExecuteTime": {
     "end_time": "2022-01-17T11:55:28.693054Z",
     "start_time": "2022-01-17T11:55:28.662027Z"
    },
    "hidden": true
   },
   "outputs": [],
   "source": [
    "#JFET HIGH GAIN\n",
    "JFET_Hi_Gain_D3_String_Hi, _ = librosa.load(\"Renders/D3String/HiAttack/JFET_Hi_Gain_D3_String_Hi.wav\", sr=48000, duration=5)\n",
    "JFET_Hi_Gain_D3_String_Med, _ = librosa.load(\"Renders/D3String/MedAttack/JFET_Hi_Gain_D3_String_Med.wav\", sr=48000, duration=5)\n",
    "JFET_Hi_Gain_D3_String_Lo, _ = librosa.load(\"Renders/D3String/LoAttack/JFET_Hi_Gain_D3_String_Lo.wav\", sr=48000, duration=5)\n",
    "\n",
    "#JFET MED GAIN\n",
    "JFET_Med_Gain_D3_String_Hi, _ = librosa.load(\"Renders/D3String/HiAttack/JFET_Med_Gain_D3_String_Hi.wav\", sr=48000, duration=5)\n",
    "JFET_Med_Gain_D3_String_Med, _ = librosa.load(\"Renders/D3String/MedAttack/JFET_Med_Gain_D3_String_Med.wav\", sr=48000, duration=5)\n",
    "JFET_Med_Gain_D3_String_Lo, _ = librosa.load(\"Renders/D3String/LoAttack/JFET_Med_Gain_D3_String_Lo.wav\", sr=48000, duration=5)\n",
    "\n",
    "#JFET LOW GAIN\n",
    "JFET_Low_Gain_D3_String_Hi, _ = librosa.load(\"Renders/D3String/HiAttack/JFET_Lo_Gain_D3_String_Hi.wav\", sr=48000, duration=5)\n",
    "JFET_Low_Gain_D3_String_Med, _ = librosa.load(\"Renders/D3String/MedAttack/JFET_Lo_Gain_D3_String_Med.wav\", sr=48000, duration=5)\n",
    "JFET_Low_Gain_D3_String_Lo, _ = librosa.load(\"Renders/D3String/LoAttack/JFET_Lo_Gain_D3_String_Lo.wav\", sr=48000, duration=5)\n",
    "\n",
    "#Normalise\n",
    "\n",
    "#JFET HIGH GAIN\n",
    "JFET_Hi_Gain_D3_String_Hi = librosa.util.normalize(JFET_Hi_Gain_D3_String_Hi)\n",
    "JFET_Hi_Gain_D3_String_Med = librosa.util.normalize(JFET_Hi_Gain_D3_String_Med)\n",
    "JFET_Hi_Gain_D3_String_Lo = librosa.util.normalize(JFET_Hi_Gain_D3_String_Lo)\n",
    "\n",
    "#JFET MED GAIN\n",
    "JFET_Med_Gain_D3_String_Hi = librosa.util.normalize(JFET_Med_Gain_D3_String_Hi)\n",
    "JFET_Med_Gain_D3_String_Med = librosa.util.normalize(JFET_Med_Gain_D3_String_Med)\n",
    "JFET_Med_Gain_D3_String_Lo = librosa.util.normalize(JFET_Med_Gain_D3_String_Lo)\n",
    "\n",
    "#JFET LOW GAIN\n",
    "JFET_Low_Gain_D3_String_Hi = librosa.util.normalize(JFET_Low_Gain_D3_String_Hi)\n",
    "JFET_Low_Gain_D3_String_Med = librosa.util.normalize(JFET_Low_Gain_D3_String_Med)\n",
    "JFET_Low_Gain_D3_String_Lo = librosa.util.normalize(JFET_Low_Gain_D3_String_Lo)"
   ]
  },
  {
   "cell_type": "code",
   "execution_count": null,
   "id": "8d78ee42",
   "metadata": {
    "hidden": true
   },
   "outputs": [],
   "source": []
  },
  {
   "cell_type": "code",
   "execution_count": 14,
   "id": "3af56b86",
   "metadata": {
    "ExecuteTime": {
     "end_time": "2022-01-17T11:55:28.709073Z",
     "start_time": "2022-01-17T11:55:28.694056Z"
    },
    "hidden": true
   },
   "outputs": [],
   "source": [
    "FRAME_SIZE = 2048\n",
    "HOP_SIZE = 1024"
   ]
  },
  {
   "cell_type": "markdown",
   "id": "3d51ad22",
   "metadata": {
    "heading_collapsed": true
   },
   "source": [
    "# E Chord"
   ]
  },
  {
   "cell_type": "markdown",
   "id": "e8eda6a2",
   "metadata": {
    "heading_collapsed": true,
    "hidden": true
   },
   "source": [
    "## High Intensity"
   ]
  },
  {
   "cell_type": "markdown",
   "id": "a6fb5768",
   "metadata": {
    "hidden": true
   },
   "source": [
    "### High Gain"
   ]
  },
  {
   "cell_type": "code",
   "execution_count": 15,
   "id": "3e7eba1f",
   "metadata": {
    "ExecuteTime": {
     "end_time": "2022-01-17T11:55:32.634639Z",
     "start_time": "2022-01-17T11:55:28.710074Z"
    },
    "hidden": true
   },
   "outputs": [
    {
     "data": {
      "text/plain": [
       "[-15.81, -21.65, -13.67, -0.51, 14.29, -7.47]"
      ]
     },
     "execution_count": 15,
     "metadata": {},
     "output_type": "execute_result"
    }
   ],
   "source": [
    "SpecVar_error(JFET_Hi_Gain_E_Chord_Hi, Vox_Hi_Gain_E_Chord_Hi, Frame_Size=FRAME_SIZE, Hop_length=HOP_SIZE, sr=sr)"
   ]
  },
  {
   "cell_type": "markdown",
   "id": "923a88ab",
   "metadata": {
    "hidden": true
   },
   "source": [
    "### Medium Gain"
   ]
  },
  {
   "cell_type": "code",
   "execution_count": 16,
   "id": "5a89bbcc",
   "metadata": {
    "ExecuteTime": {
     "end_time": "2022-01-17T11:55:36.511160Z",
     "start_time": "2022-01-17T11:55:32.634639Z"
    },
    "hidden": true
   },
   "outputs": [
    {
     "data": {
      "text/plain": [
       "[-12.97, -16.21, -7.23, 2.59, 8.25, -5.11]"
      ]
     },
     "execution_count": 16,
     "metadata": {},
     "output_type": "execute_result"
    }
   ],
   "source": [
    "SpecVar_error(JFET_Med_Gain_E_Chord_Hi, Vox_Med_Gain_E_Chord_Hi, Frame_Size=FRAME_SIZE, Hop_length=HOP_SIZE, sr=sr)"
   ]
  },
  {
   "cell_type": "markdown",
   "id": "94e78b8f",
   "metadata": {
    "hidden": true
   },
   "source": [
    "### Low Gain"
   ]
  },
  {
   "cell_type": "code",
   "execution_count": 17,
   "id": "15db9d51",
   "metadata": {
    "ExecuteTime": {
     "end_time": "2022-01-17T11:55:40.392686Z",
     "start_time": "2022-01-17T11:55:36.512161Z"
    },
    "hidden": true,
    "scrolled": true
   },
   "outputs": [
    {
     "data": {
      "text/plain": [
       "[-7.58, -42.39, -43.57, -45.09, -44.5, -36.63]"
      ]
     },
     "execution_count": 17,
     "metadata": {},
     "output_type": "execute_result"
    }
   ],
   "source": [
    "SpecVar_error(JFET_Low_Gain_E_Chord_Hi, Vox_Low_Gain_E_Chord_Hi, Frame_Size=FRAME_SIZE, Hop_length=HOP_SIZE, sr=sr)"
   ]
  },
  {
   "cell_type": "markdown",
   "id": "84034732",
   "metadata": {
    "heading_collapsed": true,
    "hidden": true
   },
   "source": [
    "## Medium Intensity"
   ]
  },
  {
   "cell_type": "markdown",
   "id": "600fd4fb",
   "metadata": {
    "hidden": true
   },
   "source": [
    "### High Gain"
   ]
  },
  {
   "cell_type": "code",
   "execution_count": 18,
   "id": "48ea373e",
   "metadata": {
    "ExecuteTime": {
     "end_time": "2022-01-17T11:55:44.318245Z",
     "start_time": "2022-01-17T11:55:40.393688Z"
    },
    "hidden": true
   },
   "outputs": [
    {
     "data": {
      "text/plain": [
       "[-7.8, -5.25, 23.9, 40.88, 55.38, 21.42]"
      ]
     },
     "execution_count": 18,
     "metadata": {},
     "output_type": "execute_result"
    }
   ],
   "source": [
    "SpecVar_error(JFET_Hi_Gain_E_Chord_Med, Vox_Hi_Gain_E_Chord_Med, Frame_Size=FRAME_SIZE, Hop_length=HOP_SIZE, sr=sr)"
   ]
  },
  {
   "cell_type": "markdown",
   "id": "4f5ef48d",
   "metadata": {
    "hidden": true
   },
   "source": [
    "### Medium Gain"
   ]
  },
  {
   "cell_type": "code",
   "execution_count": 19,
   "id": "f389227c",
   "metadata": {
    "ExecuteTime": {
     "end_time": "2022-01-17T11:55:48.247616Z",
     "start_time": "2022-01-17T11:55:44.319245Z"
    },
    "hidden": true
   },
   "outputs": [
    {
     "data": {
      "text/plain": [
       "[9.09, 5.74, 9.55, 12.36, 12.45, 9.84]"
      ]
     },
     "execution_count": 19,
     "metadata": {},
     "output_type": "execute_result"
    }
   ],
   "source": [
    "SpecVar_error(JFET_Med_Gain_E_Chord_Med, Vox_Med_Gain_E_Chord_Med, Frame_Size=FRAME_SIZE, Hop_length=HOP_SIZE, sr=sr)"
   ]
  },
  {
   "cell_type": "markdown",
   "id": "1d832270",
   "metadata": {
    "hidden": true
   },
   "source": [
    "### Low Gain"
   ]
  },
  {
   "cell_type": "code",
   "execution_count": 20,
   "id": "c4a63950",
   "metadata": {
    "ExecuteTime": {
     "end_time": "2022-01-17T11:55:52.158168Z",
     "start_time": "2022-01-17T11:55:48.248617Z"
    },
    "hidden": true,
    "scrolled": true
   },
   "outputs": [
    {
     "data": {
      "text/plain": [
       "[40.09, 0.75, -1.91, -5.08, -5.2, 5.73]"
      ]
     },
     "execution_count": 20,
     "metadata": {},
     "output_type": "execute_result"
    }
   ],
   "source": [
    "SpecVar_error(JFET_Low_Gain_E_Chord_Med, Vox_Low_Gain_E_Chord_Med, Frame_Size=FRAME_SIZE, Hop_length=HOP_SIZE, sr=sr)"
   ]
  },
  {
   "cell_type": "markdown",
   "id": "d58ba461",
   "metadata": {
    "heading_collapsed": true,
    "hidden": true
   },
   "source": [
    "## Low Intensity"
   ]
  },
  {
   "cell_type": "markdown",
   "id": "b1df22b8",
   "metadata": {
    "hidden": true
   },
   "source": [
    "### High Gain"
   ]
  },
  {
   "cell_type": "code",
   "execution_count": 21,
   "id": "e1dde8db",
   "metadata": {
    "ExecuteTime": {
     "end_time": "2022-01-17T11:55:56.091734Z",
     "start_time": "2022-01-17T11:55:52.159169Z"
    },
    "hidden": true
   },
   "outputs": [
    {
     "data": {
      "text/plain": [
       "[-28.58, -36.55, -22.78, -12.79, -6.26, -21.39]"
      ]
     },
     "execution_count": 21,
     "metadata": {},
     "output_type": "execute_result"
    }
   ],
   "source": [
    "SpecVar_error(JFET_Hi_Gain_E_Chord_Lo, Vox_Hi_Gain_E_Chord_Lo, Frame_Size=FRAME_SIZE, Hop_length=HOP_SIZE, sr=sr)"
   ]
  },
  {
   "cell_type": "markdown",
   "id": "98def54e",
   "metadata": {
    "hidden": true
   },
   "source": [
    "### Medium Gain"
   ]
  },
  {
   "cell_type": "code",
   "execution_count": 22,
   "id": "149c77e6",
   "metadata": {
    "ExecuteTime": {
     "end_time": "2022-01-17T11:56:00.022107Z",
     "start_time": "2022-01-17T11:55:56.092735Z"
    },
    "hidden": true
   },
   "outputs": [
    {
     "data": {
      "text/plain": [
       "[-20.9, -34.84, -33.64, -33.32, -32.53, -31.04]"
      ]
     },
     "execution_count": 22,
     "metadata": {},
     "output_type": "execute_result"
    }
   ],
   "source": [
    "SpecVar_error(JFET_Med_Gain_E_Chord_Lo, Vox_Med_Gain_E_Chord_Lo, Frame_Size=FRAME_SIZE, Hop_length=HOP_SIZE, sr=sr)"
   ]
  },
  {
   "cell_type": "markdown",
   "id": "92e903f5",
   "metadata": {
    "hidden": true
   },
   "source": [
    "### Low Gain"
   ]
  },
  {
   "cell_type": "code",
   "execution_count": 23,
   "id": "4855af61",
   "metadata": {
    "ExecuteTime": {
     "end_time": "2022-01-17T11:56:03.921643Z",
     "start_time": "2022-01-17T11:56:00.025111Z"
    },
    "hidden": true,
    "scrolled": true
   },
   "outputs": [
    {
     "data": {
      "text/plain": [
       "[-9.48, -21.42, -21.36, -21.36, -20.91, -18.9]"
      ]
     },
     "execution_count": 23,
     "metadata": {},
     "output_type": "execute_result"
    }
   ],
   "source": [
    "SpecVar_error(JFET_Low_Gain_E_Chord_Lo, Vox_Low_Gain_E_Chord_Lo, Frame_Size=FRAME_SIZE, Hop_length=HOP_SIZE, sr=sr)"
   ]
  },
  {
   "cell_type": "markdown",
   "id": "296a009e",
   "metadata": {
    "heading_collapsed": true
   },
   "source": [
    "# E2 String"
   ]
  },
  {
   "cell_type": "markdown",
   "id": "b7e034a2",
   "metadata": {
    "hidden": true
   },
   "source": [
    "## High Intensity"
   ]
  },
  {
   "cell_type": "markdown",
   "id": "c7b5245f",
   "metadata": {
    "hidden": true
   },
   "source": [
    "### High Gain"
   ]
  },
  {
   "cell_type": "code",
   "execution_count": 24,
   "id": "ba20139a",
   "metadata": {
    "ExecuteTime": {
     "end_time": "2022-01-17T11:56:07.862213Z",
     "start_time": "2022-01-17T11:56:03.922644Z"
    },
    "hidden": true
   },
   "outputs": [
    {
     "data": {
      "text/plain": [
       "[-41.23, -28.29, -4.67, 18.62, 40.31, -3.05]"
      ]
     },
     "execution_count": 24,
     "metadata": {},
     "output_type": "execute_result"
    }
   ],
   "source": [
    "SpecVar_error(JFET_Hi_Gain_E2_String_Hi, Vox_Hi_Gain_E2_String_Hi, Frame_Size=FRAME_SIZE, Hop_length=HOP_SIZE, sr=sr)"
   ]
  },
  {
   "cell_type": "markdown",
   "id": "eb75bad7",
   "metadata": {
    "hidden": true
   },
   "source": [
    "### Medium Gain"
   ]
  },
  {
   "cell_type": "code",
   "execution_count": 25,
   "id": "bb355ee8",
   "metadata": {
    "ExecuteTime": {
     "end_time": "2022-01-17T11:56:11.773768Z",
     "start_time": "2022-01-17T11:56:07.863216Z"
    },
    "hidden": true
   },
   "outputs": [
    {
     "data": {
      "text/plain": [
       "[-11.43, 42.04, 76.31, 87.47, 91.62, 57.2]"
      ]
     },
     "execution_count": 25,
     "metadata": {},
     "output_type": "execute_result"
    }
   ],
   "source": [
    "SpecVar_error(JFET_Med_Gain_E2_String_Hi, Vox_Med_Gain_E2_String_Hi, Frame_Size=FRAME_SIZE, Hop_length=HOP_SIZE, sr=sr)"
   ]
  },
  {
   "cell_type": "markdown",
   "id": "f9cf5b9c",
   "metadata": {
    "hidden": true
   },
   "source": [
    "### Low Gain"
   ]
  },
  {
   "cell_type": "code",
   "execution_count": 26,
   "id": "adcc9613",
   "metadata": {
    "ExecuteTime": {
     "end_time": "2022-01-17T11:56:15.687322Z",
     "start_time": "2022-01-17T11:56:11.774769Z"
    },
    "hidden": true,
    "scrolled": true
   },
   "outputs": [
    {
     "data": {
      "text/plain": [
       "[-45.67, -66.77, -69.87, -70.69, -69.46, -64.49]"
      ]
     },
     "execution_count": 26,
     "metadata": {},
     "output_type": "execute_result"
    }
   ],
   "source": [
    "SpecVar_error(JFET_Low_Gain_E2_String_Hi, Vox_Low_Gain_E2_String_Hi, Frame_Size=FRAME_SIZE, Hop_length=HOP_SIZE, sr=sr)"
   ]
  },
  {
   "cell_type": "markdown",
   "id": "53621c01",
   "metadata": {
    "hidden": true
   },
   "source": [
    "## Medium Intensity"
   ]
  },
  {
   "cell_type": "markdown",
   "id": "07d8f462",
   "metadata": {
    "hidden": true
   },
   "source": [
    "### High Gain"
   ]
  },
  {
   "cell_type": "code",
   "execution_count": 27,
   "id": "4be95d44",
   "metadata": {
    "ExecuteTime": {
     "end_time": "2022-01-17T11:56:19.547829Z",
     "start_time": "2022-01-17T11:56:15.688323Z"
    },
    "hidden": true
   },
   "outputs": [
    {
     "data": {
      "text/plain": [
       "[-46.32, -39.05, -30.55, -15.4, -2.13, -26.69]"
      ]
     },
     "execution_count": 27,
     "metadata": {},
     "output_type": "execute_result"
    }
   ],
   "source": [
    "SpecVar_error(JFET_Hi_Gain_E2_String_Med, Vox_Hi_Gain_E2_String_Med, Frame_Size=FRAME_SIZE, Hop_length=HOP_SIZE, sr=sr)"
   ]
  },
  {
   "cell_type": "markdown",
   "id": "210c0772",
   "metadata": {
    "hidden": true
   },
   "source": [
    "### Medium Gain"
   ]
  },
  {
   "cell_type": "code",
   "execution_count": 28,
   "id": "903aa4a4",
   "metadata": {
    "ExecuteTime": {
     "end_time": "2022-01-17T11:56:23.457575Z",
     "start_time": "2022-01-17T11:56:19.547829Z"
    },
    "hidden": true
   },
   "outputs": [
    {
     "data": {
      "text/plain": [
       "[-21.74, -12.33, -8.79, -6.61, -5.86, -11.07]"
      ]
     },
     "execution_count": 28,
     "metadata": {},
     "output_type": "execute_result"
    }
   ],
   "source": [
    "SpecVar_error(JFET_Med_Gain_E2_String_Med, Vox_Med_Gain_E2_String_Med, Frame_Size=FRAME_SIZE, Hop_length=HOP_SIZE, sr=sr)"
   ]
  },
  {
   "cell_type": "markdown",
   "id": "a72f6a29",
   "metadata": {
    "hidden": true
   },
   "source": [
    "### Low Gain"
   ]
  },
  {
   "cell_type": "code",
   "execution_count": 29,
   "id": "b23f1387",
   "metadata": {
    "ExecuteTime": {
     "end_time": "2022-01-17T11:56:27.366377Z",
     "start_time": "2022-01-17T11:56:23.458576Z"
    },
    "hidden": true,
    "scrolled": true
   },
   "outputs": [
    {
     "data": {
      "text/plain": [
       "[-42.8, -55.95, -57.85, -58.42, -57.3, -54.46]"
      ]
     },
     "execution_count": 29,
     "metadata": {},
     "output_type": "execute_result"
    }
   ],
   "source": [
    "SpecVar_error(JFET_Low_Gain_E2_String_Med, Vox_Low_Gain_E2_String_Med, Frame_Size=FRAME_SIZE, Hop_length=HOP_SIZE, sr=sr)"
   ]
  },
  {
   "cell_type": "markdown",
   "id": "5213f492",
   "metadata": {
    "hidden": true
   },
   "source": [
    "## Low Intensity"
   ]
  },
  {
   "cell_type": "markdown",
   "id": "4e00c347",
   "metadata": {
    "hidden": true
   },
   "source": [
    "### High Gain"
   ]
  },
  {
   "cell_type": "code",
   "execution_count": 30,
   "id": "0ed74691",
   "metadata": {
    "ExecuteTime": {
     "end_time": "2022-01-17T11:56:31.302954Z",
     "start_time": "2022-01-17T11:56:27.367380Z"
    },
    "hidden": true
   },
   "outputs": [
    {
     "data": {
      "text/plain": [
       "[2.46, 44.06, 73.74, 96.24, 109.95, 65.29]"
      ]
     },
     "execution_count": 30,
     "metadata": {},
     "output_type": "execute_result"
    }
   ],
   "source": [
    "SpecVar_error(JFET_Hi_Gain_E2_String_Lo, Vox_Hi_Gain_E2_String_Lo, Frame_Size=FRAME_SIZE, Hop_length=HOP_SIZE, sr=sr)"
   ]
  },
  {
   "cell_type": "markdown",
   "id": "35760454",
   "metadata": {
    "hidden": true
   },
   "source": [
    "### Medium Gain"
   ]
  },
  {
   "cell_type": "code",
   "execution_count": 31,
   "id": "50df8181",
   "metadata": {
    "ExecuteTime": {
     "end_time": "2022-01-17T11:56:35.215114Z",
     "start_time": "2022-01-17T11:56:31.303955Z"
    },
    "hidden": true
   },
   "outputs": [
    {
     "data": {
      "text/plain": [
       "[6.42, 9.26, 10.5, 10.86, 10.72, 9.55]"
      ]
     },
     "execution_count": 31,
     "metadata": {},
     "output_type": "execute_result"
    }
   ],
   "source": [
    "SpecVar_error(JFET_Med_Gain_E2_String_Lo, Vox_Med_Gain_E2_String_Lo, Frame_Size=FRAME_SIZE, Hop_length=HOP_SIZE, sr=sr)"
   ]
  },
  {
   "cell_type": "markdown",
   "id": "d5df2c6d",
   "metadata": {
    "hidden": true
   },
   "source": [
    "### Low Gain"
   ]
  },
  {
   "cell_type": "code",
   "execution_count": 32,
   "id": "bff38a7e",
   "metadata": {
    "ExecuteTime": {
     "end_time": "2022-01-17T11:56:39.127095Z",
     "start_time": "2022-01-17T11:56:35.216116Z"
    },
    "hidden": true,
    "scrolled": true
   },
   "outputs": [
    {
     "data": {
      "text/plain": [
       "[8.3, 4.36, 0.93, 0.57, 0.35, 2.9]"
      ]
     },
     "execution_count": 32,
     "metadata": {},
     "output_type": "execute_result"
    }
   ],
   "source": [
    "SpecVar_error(JFET_Low_Gain_E2_String_Lo, Vox_Low_Gain_E2_String_Lo, Frame_Size=FRAME_SIZE, Hop_length=HOP_SIZE, sr=sr)"
   ]
  },
  {
   "cell_type": "markdown",
   "id": "c13e762c",
   "metadata": {
    "heading_collapsed": true
   },
   "source": [
    "# E4 String"
   ]
  },
  {
   "cell_type": "markdown",
   "id": "311444ce",
   "metadata": {
    "hidden": true
   },
   "source": [
    "## High Intensity"
   ]
  },
  {
   "cell_type": "markdown",
   "id": "93225737",
   "metadata": {
    "hidden": true
   },
   "source": [
    "### High Gain"
   ]
  },
  {
   "cell_type": "code",
   "execution_count": 33,
   "id": "c13547f7",
   "metadata": {
    "ExecuteTime": {
     "end_time": "2022-01-17T11:56:43.084691Z",
     "start_time": "2022-01-17T11:56:39.128096Z"
    },
    "hidden": true
   },
   "outputs": [
    {
     "data": {
      "text/plain": [
       "[-65.87, -62.88, -59.6, -59.4, -58.14, -61.18]"
      ]
     },
     "execution_count": 33,
     "metadata": {},
     "output_type": "execute_result"
    }
   ],
   "source": [
    "SpecVar_error(JFET_Hi_Gain_E4_String_Hi, Vox_Hi_Gain_E4_String_Hi, Frame_Size=FRAME_SIZE, Hop_length=HOP_SIZE, sr=sr)"
   ]
  },
  {
   "cell_type": "markdown",
   "id": "c08cdaec",
   "metadata": {
    "hidden": true
   },
   "source": [
    "### Medium Gain"
   ]
  },
  {
   "cell_type": "code",
   "execution_count": 34,
   "id": "8b5b84c6",
   "metadata": {
    "ExecuteTime": {
     "end_time": "2022-01-17T11:56:46.978233Z",
     "start_time": "2022-01-17T11:56:43.085692Z"
    },
    "hidden": true
   },
   "outputs": [
    {
     "data": {
      "text/plain": [
       "[-71.39, -78.4, -78.37, -78.36, -76.69, -76.64]"
      ]
     },
     "execution_count": 34,
     "metadata": {},
     "output_type": "execute_result"
    }
   ],
   "source": [
    "SpecVar_error(JFET_Med_Gain_E4_String_Hi, Vox_Med_Gain_E4_String_Hi, Frame_Size=FRAME_SIZE, Hop_length=HOP_SIZE, sr=sr)"
   ]
  },
  {
   "cell_type": "markdown",
   "id": "06ad3089",
   "metadata": {
    "hidden": true
   },
   "source": [
    "### Low Gain"
   ]
  },
  {
   "cell_type": "code",
   "execution_count": 35,
   "id": "85872ba6",
   "metadata": {
    "ExecuteTime": {
     "end_time": "2022-01-17T11:56:50.903798Z",
     "start_time": "2022-01-17T11:56:46.979233Z"
    },
    "hidden": true,
    "scrolled": true
   },
   "outputs": [
    {
     "data": {
      "text/plain": [
       "[-79.3, -91.94, -92.01, -92.01, -90.06, -89.06]"
      ]
     },
     "execution_count": 35,
     "metadata": {},
     "output_type": "execute_result"
    }
   ],
   "source": [
    "SpecVar_error(JFET_Low_Gain_E4_String_Hi, Vox_Low_Gain_E4_String_Hi, Frame_Size=FRAME_SIZE, Hop_length=HOP_SIZE, sr=sr)"
   ]
  },
  {
   "cell_type": "markdown",
   "id": "88d4065f",
   "metadata": {
    "hidden": true
   },
   "source": [
    "## Medium Intensity"
   ]
  },
  {
   "cell_type": "markdown",
   "id": "ee165135",
   "metadata": {
    "hidden": true
   },
   "source": [
    "### High Gain"
   ]
  },
  {
   "cell_type": "code",
   "execution_count": 36,
   "id": "bd27f734",
   "metadata": {
    "ExecuteTime": {
     "end_time": "2022-01-17T11:56:54.825360Z",
     "start_time": "2022-01-17T11:56:50.903798Z"
    },
    "hidden": true
   },
   "outputs": [
    {
     "data": {
      "text/plain": [
       "[-24.3, -52.86, -51.19, -50.86, -49.72, -45.79]"
      ]
     },
     "execution_count": 36,
     "metadata": {},
     "output_type": "execute_result"
    }
   ],
   "source": [
    "SpecVar_error(JFET_Hi_Gain_E4_String_Med, Vox_Hi_Gain_E4_String_Med, Frame_Size=FRAME_SIZE, Hop_length=HOP_SIZE, sr=sr)"
   ]
  },
  {
   "cell_type": "markdown",
   "id": "aef93691",
   "metadata": {
    "hidden": true
   },
   "source": [
    "### Medium Gain"
   ]
  },
  {
   "cell_type": "code",
   "execution_count": 37,
   "id": "7d30a100",
   "metadata": {
    "ExecuteTime": {
     "end_time": "2022-01-17T11:56:58.743920Z",
     "start_time": "2022-01-17T11:56:54.826362Z"
    },
    "hidden": true
   },
   "outputs": [
    {
     "data": {
      "text/plain": [
       "[-20.3, -46.96, -49.92, -50.16, -49.11, -43.29]"
      ]
     },
     "execution_count": 37,
     "metadata": {},
     "output_type": "execute_result"
    }
   ],
   "source": [
    "SpecVar_error(JFET_Med_Gain_E4_String_Med, Vox_Med_Gain_E4_String_Med, Frame_Size=FRAME_SIZE, Hop_length=HOP_SIZE, sr=sr)"
   ]
  },
  {
   "cell_type": "markdown",
   "id": "a507e61f",
   "metadata": {
    "hidden": true
   },
   "source": [
    "### Low Gain"
   ]
  },
  {
   "cell_type": "code",
   "execution_count": 38,
   "id": "87441e3f",
   "metadata": {
    "ExecuteTime": {
     "end_time": "2022-01-17T11:57:02.673490Z",
     "start_time": "2022-01-17T11:56:58.744921Z"
    },
    "hidden": true,
    "scrolled": true
   },
   "outputs": [
    {
     "data": {
      "text/plain": [
       "[-16.99, -42.2, -45.36, -45.62, -44.66, -38.96]"
      ]
     },
     "execution_count": 38,
     "metadata": {},
     "output_type": "execute_result"
    }
   ],
   "source": [
    "SpecVar_error(JFET_Low_Gain_E4_String_Med, Vox_Low_Gain_E4_String_Med, Frame_Size=FRAME_SIZE, Hop_length=HOP_SIZE, sr=sr)"
   ]
  },
  {
   "cell_type": "markdown",
   "id": "f81e5e71",
   "metadata": {
    "hidden": true
   },
   "source": [
    "## Low Intensity"
   ]
  },
  {
   "cell_type": "markdown",
   "id": "7522660b",
   "metadata": {
    "hidden": true
   },
   "source": [
    "### High Gain"
   ]
  },
  {
   "cell_type": "code",
   "execution_count": 39,
   "id": "e3b51308",
   "metadata": {
    "ExecuteTime": {
     "end_time": "2022-01-17T11:57:06.597748Z",
     "start_time": "2022-01-17T11:57:02.674491Z"
    },
    "hidden": true
   },
   "outputs": [
    {
     "data": {
      "text/plain": [
       "[-15.65, -44.85, -46.72, -46.65, -45.64, -39.9]"
      ]
     },
     "execution_count": 39,
     "metadata": {},
     "output_type": "execute_result"
    }
   ],
   "source": [
    "SpecVar_error(JFET_Hi_Gain_E4_String_Lo, Vox_Hi_Gain_E4_String_Lo, Frame_Size=FRAME_SIZE, Hop_length=HOP_SIZE, sr=sr)"
   ]
  },
  {
   "cell_type": "markdown",
   "id": "e28892b1",
   "metadata": {
    "hidden": true
   },
   "source": [
    "### Medium Gain"
   ]
  },
  {
   "cell_type": "code",
   "execution_count": 40,
   "id": "ef82d5bb",
   "metadata": {
    "ExecuteTime": {
     "end_time": "2022-01-17T11:57:10.498290Z",
     "start_time": "2022-01-17T11:57:06.597748Z"
    },
    "hidden": true
   },
   "outputs": [
    {
     "data": {
      "text/plain": [
       "[-47.8, -64.5, -65.39, -65.43, -64.03, -61.43]"
      ]
     },
     "execution_count": 40,
     "metadata": {},
     "output_type": "execute_result"
    }
   ],
   "source": [
    "SpecVar_error(JFET_Med_Gain_E4_String_Lo, Vox_Med_Gain_E4_String_Lo, Frame_Size=FRAME_SIZE, Hop_length=HOP_SIZE, sr=sr)"
   ]
  },
  {
   "cell_type": "markdown",
   "id": "2798e449",
   "metadata": {
    "hidden": true
   },
   "source": [
    "### Low Gain"
   ]
  },
  {
   "cell_type": "code",
   "execution_count": 41,
   "id": "a3bb47ca",
   "metadata": {
    "ExecuteTime": {
     "end_time": "2022-01-17T11:57:14.398834Z",
     "start_time": "2022-01-17T11:57:10.499292Z"
    },
    "hidden": true,
    "scrolled": true
   },
   "outputs": [
    {
     "data": {
      "text/plain": [
       "[-42.99, -54.26, -54.92, -54.94, -53.77, -52.17]"
      ]
     },
     "execution_count": 41,
     "metadata": {},
     "output_type": "execute_result"
    }
   ],
   "source": [
    "SpecVar_error(JFET_Low_Gain_E4_String_Lo, Vox_Low_Gain_E4_String_Lo, Frame_Size=FRAME_SIZE, Hop_length=HOP_SIZE, sr=sr)"
   ]
  },
  {
   "cell_type": "markdown",
   "id": "43120be7",
   "metadata": {
    "heading_collapsed": true
   },
   "source": [
    "# D Chord"
   ]
  },
  {
   "cell_type": "markdown",
   "id": "987a1a32",
   "metadata": {
    "hidden": true
   },
   "source": [
    "## High Intensity"
   ]
  },
  {
   "cell_type": "markdown",
   "id": "006f7543",
   "metadata": {
    "hidden": true
   },
   "source": [
    "### High Gain"
   ]
  },
  {
   "cell_type": "code",
   "execution_count": 42,
   "id": "8c8a0a03",
   "metadata": {
    "ExecuteTime": {
     "end_time": "2022-01-17T11:57:18.311190Z",
     "start_time": "2022-01-17T11:57:14.399836Z"
    },
    "hidden": true
   },
   "outputs": [
    {
     "data": {
      "text/plain": [
       "[-9.99, 13.03, 32.13, 51.53, 62.87, 29.91]"
      ]
     },
     "execution_count": 42,
     "metadata": {},
     "output_type": "execute_result"
    }
   ],
   "source": [
    "SpecVar_error(JFET_Hi_Gain_D_Chord_Hi, Vox_Hi_Gain_D_Chord_Hi, Frame_Size=FRAME_SIZE, Hop_length=HOP_SIZE, sr=sr)"
   ]
  },
  {
   "cell_type": "markdown",
   "id": "eda7b25a",
   "metadata": {
    "hidden": true
   },
   "source": [
    "### Medium Gain"
   ]
  },
  {
   "cell_type": "code",
   "execution_count": 43,
   "id": "0ec03e53",
   "metadata": {
    "ExecuteTime": {
     "end_time": "2022-01-17T11:57:22.190714Z",
     "start_time": "2022-01-17T11:57:18.312191Z"
    },
    "hidden": true
   },
   "outputs": [
    {
     "data": {
      "text/plain": [
       "[23.6, 49.4, 58.37, 59.73, 58.68, 49.96]"
      ]
     },
     "execution_count": 43,
     "metadata": {},
     "output_type": "execute_result"
    }
   ],
   "source": [
    "SpecVar_error(JFET_Med_Gain_D_Chord_Hi, Vox_Med_Gain_D_Chord_Hi, Frame_Size=FRAME_SIZE, Hop_length=HOP_SIZE, sr=sr)"
   ]
  },
  {
   "cell_type": "markdown",
   "id": "0e390b8b",
   "metadata": {
    "hidden": true
   },
   "source": [
    "### Low Gain"
   ]
  },
  {
   "cell_type": "code",
   "execution_count": 44,
   "id": "fd9a6c05",
   "metadata": {
    "ExecuteTime": {
     "end_time": "2022-01-17T11:57:26.078245Z",
     "start_time": "2022-01-17T11:57:22.190714Z"
    },
    "hidden": true,
    "scrolled": true
   },
   "outputs": [
    {
     "data": {
      "text/plain": [
       "[-5.42, -49.84, -55.13, -55.73, -54.62, -44.15]"
      ]
     },
     "execution_count": 44,
     "metadata": {},
     "output_type": "execute_result"
    }
   ],
   "source": [
    "SpecVar_error(JFET_Low_Gain_D_Chord_Hi, Vox_Low_Gain_D_Chord_Hi, Frame_Size=FRAME_SIZE, Hop_length=HOP_SIZE, sr=sr)"
   ]
  },
  {
   "cell_type": "markdown",
   "id": "d3629e64",
   "metadata": {
    "hidden": true
   },
   "source": [
    "## Medium Intensity"
   ]
  },
  {
   "cell_type": "markdown",
   "id": "5749598a",
   "metadata": {
    "hidden": true
   },
   "source": [
    "### High Gain"
   ]
  },
  {
   "cell_type": "code",
   "execution_count": 45,
   "id": "b5069071",
   "metadata": {
    "ExecuteTime": {
     "end_time": "2022-01-17T11:57:29.978789Z",
     "start_time": "2022-01-17T11:57:26.079246Z"
    },
    "hidden": true
   },
   "outputs": [
    {
     "data": {
      "text/plain": [
       "[-23.08, -21.29, -3.77, 9.35, 16.05, -4.55]"
      ]
     },
     "execution_count": 45,
     "metadata": {},
     "output_type": "execute_result"
    }
   ],
   "source": [
    "SpecVar_error(JFET_Hi_Gain_D_Chord_Med, Vox_Hi_Gain_D_Chord_Med, Frame_Size=FRAME_SIZE, Hop_length=HOP_SIZE, sr=sr)"
   ]
  },
  {
   "cell_type": "markdown",
   "id": "c5d1b925",
   "metadata": {
    "hidden": true
   },
   "source": [
    "### Medium Gain"
   ]
  },
  {
   "cell_type": "code",
   "execution_count": 46,
   "id": "28fc319c",
   "metadata": {
    "ExecuteTime": {
     "end_time": "2022-01-17T11:57:33.891339Z",
     "start_time": "2022-01-17T11:57:29.978789Z"
    },
    "hidden": true
   },
   "outputs": [
    {
     "data": {
      "text/plain": [
       "[-3.78, 0.8, 4.0, 4.64, 4.62, 2.06]"
      ]
     },
     "execution_count": 46,
     "metadata": {},
     "output_type": "execute_result"
    }
   ],
   "source": [
    "SpecVar_error(JFET_Med_Gain_D_Chord_Med, Vox_Med_Gain_D_Chord_Med, Frame_Size=FRAME_SIZE, Hop_length=HOP_SIZE, sr=sr)"
   ]
  },
  {
   "cell_type": "markdown",
   "id": "6599b439",
   "metadata": {
    "hidden": true
   },
   "source": [
    "### Low Gain"
   ]
  },
  {
   "cell_type": "code",
   "execution_count": 47,
   "id": "cd987169",
   "metadata": {
    "ExecuteTime": {
     "end_time": "2022-01-17T11:57:37.822912Z",
     "start_time": "2022-01-17T11:57:33.891339Z"
    },
    "hidden": true,
    "scrolled": true
   },
   "outputs": [
    {
     "data": {
      "text/plain": [
       "[10.42, -26.1, -29.61, -30.02, -29.43, -20.95]"
      ]
     },
     "execution_count": 47,
     "metadata": {},
     "output_type": "execute_result"
    }
   ],
   "source": [
    "SpecVar_error(JFET_Low_Gain_D_Chord_Med, Vox_Low_Gain_D_Chord_Med, Frame_Size=FRAME_SIZE, Hop_length=HOP_SIZE, sr=sr)"
   ]
  },
  {
   "cell_type": "markdown",
   "id": "b6adf0db",
   "metadata": {
    "hidden": true
   },
   "source": [
    "## Low Intensity"
   ]
  },
  {
   "cell_type": "markdown",
   "id": "219af6f7",
   "metadata": {
    "hidden": true
   },
   "source": [
    "### High Gain"
   ]
  },
  {
   "cell_type": "code",
   "execution_count": 48,
   "id": "9c3087af",
   "metadata": {
    "ExecuteTime": {
     "end_time": "2022-01-17T11:57:41.742481Z",
     "start_time": "2022-01-17T11:57:37.823911Z"
    },
    "hidden": true
   },
   "outputs": [
    {
     "data": {
      "text/plain": [
       "[-33.5, -22.01, -7.01, -0.88, 0.33, -12.62]"
      ]
     },
     "execution_count": 48,
     "metadata": {},
     "output_type": "execute_result"
    }
   ],
   "source": [
    "SpecVar_error(JFET_Hi_Gain_D_Chord_Lo, Vox_Hi_Gain_D_Chord_Lo, Frame_Size=FRAME_SIZE, Hop_length=HOP_SIZE, sr=sr)"
   ]
  },
  {
   "cell_type": "markdown",
   "id": "79692f66",
   "metadata": {
    "hidden": true
   },
   "source": [
    "### Medium Gain"
   ]
  },
  {
   "cell_type": "code",
   "execution_count": 49,
   "id": "e9d6baa2",
   "metadata": {
    "ExecuteTime": {
     "end_time": "2022-01-17T11:57:45.675037Z",
     "start_time": "2022-01-17T11:57:41.743481Z"
    },
    "hidden": true
   },
   "outputs": [
    {
     "data": {
      "text/plain": [
       "[-19.81, -27.0, -27.19, -27.19, -26.62, -25.56]"
      ]
     },
     "execution_count": 49,
     "metadata": {},
     "output_type": "execute_result"
    }
   ],
   "source": [
    "SpecVar_error(JFET_Med_Gain_D_Chord_Lo, Vox_Med_Gain_D_Chord_Lo, Frame_Size=FRAME_SIZE, Hop_length=HOP_SIZE, sr=sr)"
   ]
  },
  {
   "cell_type": "markdown",
   "id": "e3bd8cf5",
   "metadata": {
    "hidden": true
   },
   "source": [
    "### Low Gain"
   ]
  },
  {
   "cell_type": "code",
   "execution_count": 50,
   "id": "acdbfe24",
   "metadata": {
    "ExecuteTime": {
     "end_time": "2022-01-17T11:57:49.642442Z",
     "start_time": "2022-01-17T11:57:45.676039Z"
    },
    "hidden": true,
    "scrolled": true
   },
   "outputs": [
    {
     "data": {
      "text/plain": [
       "[-6.02, -16.43, -17.58, -17.75, -17.39, -15.03]"
      ]
     },
     "execution_count": 50,
     "metadata": {},
     "output_type": "execute_result"
    }
   ],
   "source": [
    "SpecVar_error(JFET_Low_Gain_D_Chord_Lo, Vox_Low_Gain_D_Chord_Lo, Frame_Size=FRAME_SIZE, Hop_length=HOP_SIZE, sr=sr)"
   ]
  },
  {
   "cell_type": "markdown",
   "id": "c31772b5",
   "metadata": {},
   "source": [
    "# D3 String"
   ]
  },
  {
   "cell_type": "markdown",
   "id": "73d1a9d7",
   "metadata": {},
   "source": [
    "## High Intensity"
   ]
  },
  {
   "cell_type": "markdown",
   "id": "83aad369",
   "metadata": {},
   "source": [
    "### High Gain"
   ]
  },
  {
   "cell_type": "code",
   "execution_count": 51,
   "id": "0e2f635f",
   "metadata": {
    "ExecuteTime": {
     "end_time": "2022-01-17T11:57:53.546982Z",
     "start_time": "2022-01-17T11:57:49.642442Z"
    }
   },
   "outputs": [
    {
     "data": {
      "text/plain": [
       "[-14.34, -13.22, 1.49, 17.89, 24.39, 3.24]"
      ]
     },
     "execution_count": 51,
     "metadata": {},
     "output_type": "execute_result"
    }
   ],
   "source": [
    "SpecVar_error(JFET_Hi_Gain_D3_String_Hi, Vox_Hi_Gain_D3_String_Hi, Frame_Size=FRAME_SIZE, Hop_length=HOP_SIZE, sr=sr)"
   ]
  },
  {
   "cell_type": "markdown",
   "id": "6c8aa360",
   "metadata": {},
   "source": [
    "### Medium Gain"
   ]
  },
  {
   "cell_type": "code",
   "execution_count": 52,
   "id": "88c17268",
   "metadata": {
    "ExecuteTime": {
     "end_time": "2022-01-17T11:57:57.470348Z",
     "start_time": "2022-01-17T11:57:53.547982Z"
    }
   },
   "outputs": [
    {
     "data": {
      "text/plain": [
       "[13.55, 15.88, 16.67, 16.96, 16.64, 15.94]"
      ]
     },
     "execution_count": 52,
     "metadata": {},
     "output_type": "execute_result"
    }
   ],
   "source": [
    "SpecVar_error(JFET_Med_Gain_D3_String_Hi, Vox_Med_Gain_D3_String_Hi, Frame_Size=FRAME_SIZE, Hop_length=HOP_SIZE, sr=sr)"
   ]
  },
  {
   "cell_type": "markdown",
   "id": "5fa0d152",
   "metadata": {},
   "source": [
    "### Low Gain"
   ]
  },
  {
   "cell_type": "code",
   "execution_count": 53,
   "id": "21730da8",
   "metadata": {
    "ExecuteTime": {
     "end_time": "2022-01-17T11:58:01.416933Z",
     "start_time": "2022-01-17T11:57:57.471349Z"
    },
    "scrolled": true
   },
   "outputs": [
    {
     "data": {
      "text/plain": [
       "[-54.28, -81.98, -82.9, -83.07, -81.34, -76.71]"
      ]
     },
     "execution_count": 53,
     "metadata": {},
     "output_type": "execute_result"
    }
   ],
   "source": [
    "SpecVar_error(JFET_Low_Gain_D3_String_Hi, Vox_Low_Gain_D3_String_Hi, Frame_Size=FRAME_SIZE, Hop_length=HOP_SIZE, sr=sr)"
   ]
  },
  {
   "cell_type": "markdown",
   "id": "b0702ccb",
   "metadata": {},
   "source": [
    "## Medium Intensity"
   ]
  },
  {
   "cell_type": "markdown",
   "id": "b2ac7ee2",
   "metadata": {},
   "source": [
    "### High Gain"
   ]
  },
  {
   "cell_type": "code",
   "execution_count": 54,
   "id": "0277cd6e",
   "metadata": {
    "ExecuteTime": {
     "end_time": "2022-01-17T11:58:05.358514Z",
     "start_time": "2022-01-17T11:58:01.417934Z"
    }
   },
   "outputs": [
    {
     "data": {
      "text/plain": [
       "[-26.1, -13.96, -0.35, 4.81, 5.99, -5.92]"
      ]
     },
     "execution_count": 54,
     "metadata": {},
     "output_type": "execute_result"
    }
   ],
   "source": [
    "SpecVar_error(JFET_Hi_Gain_D3_String_Med, Vox_Hi_Gain_D3_String_Med, Frame_Size=FRAME_SIZE, Hop_length=HOP_SIZE, sr=sr)"
   ]
  },
  {
   "cell_type": "markdown",
   "id": "55960fd8",
   "metadata": {},
   "source": [
    "### Medium Gain"
   ]
  },
  {
   "cell_type": "code",
   "execution_count": 55,
   "id": "232fea3e",
   "metadata": {
    "ExecuteTime": {
     "end_time": "2022-01-17T11:58:09.304098Z",
     "start_time": "2022-01-17T11:58:05.359515Z"
    }
   },
   "outputs": [
    {
     "data": {
      "text/plain": [
       "[-25.52, -44.52, -44.71, -44.78, -43.83, -40.67]"
      ]
     },
     "execution_count": 55,
     "metadata": {},
     "output_type": "execute_result"
    }
   ],
   "source": [
    "SpecVar_error(JFET_Med_Gain_D3_String_Med, Vox_Med_Gain_D3_String_Med, Frame_Size=FRAME_SIZE, Hop_length=HOP_SIZE, sr=sr)"
   ]
  },
  {
   "cell_type": "markdown",
   "id": "ac8b030d",
   "metadata": {},
   "source": [
    "### Low Gain"
   ]
  },
  {
   "cell_type": "code",
   "execution_count": 56,
   "id": "6d675fc0",
   "metadata": {
    "ExecuteTime": {
     "end_time": "2022-01-17T11:58:13.314741Z",
     "start_time": "2022-01-17T11:58:09.305099Z"
    },
    "scrolled": true
   },
   "outputs": [
    {
     "data": {
      "text/plain": [
       "[-27.8, -57.4, -58.07, -58.18, -56.97, -51.69]"
      ]
     },
     "execution_count": 56,
     "metadata": {},
     "output_type": "execute_result"
    }
   ],
   "source": [
    "SpecVar_error(JFET_Low_Gain_D3_String_Med, Vox_Low_Gain_D3_String_Med, Frame_Size=FRAME_SIZE, Hop_length=HOP_SIZE, sr=sr)"
   ]
  },
  {
   "cell_type": "markdown",
   "id": "30d220db",
   "metadata": {},
   "source": [
    "## Low Intensity"
   ]
  },
  {
   "cell_type": "markdown",
   "id": "c5e97ccb",
   "metadata": {},
   "source": [
    "### High Gain"
   ]
  },
  {
   "cell_type": "code",
   "execution_count": 57,
   "id": "3c4ebddd",
   "metadata": {
    "ExecuteTime": {
     "end_time": "2022-01-17T11:58:17.259325Z",
     "start_time": "2022-01-17T11:58:13.315743Z"
    }
   },
   "outputs": [
    {
     "data": {
      "text/plain": [
       "[-3.42, 23.3, 47.08, 53.72, 54.28, 34.99]"
      ]
     },
     "execution_count": 57,
     "metadata": {},
     "output_type": "execute_result"
    }
   ],
   "source": [
    "SpecVar_error(JFET_Hi_Gain_D3_String_Lo, Vox_Hi_Gain_D3_String_Lo, Frame_Size=FRAME_SIZE, Hop_length=HOP_SIZE, sr=sr)"
   ]
  },
  {
   "cell_type": "markdown",
   "id": "b16e5680",
   "metadata": {},
   "source": [
    "### Medium Gain"
   ]
  },
  {
   "cell_type": "code",
   "execution_count": 58,
   "id": "9ef8b08b",
   "metadata": {
    "ExecuteTime": {
     "end_time": "2022-01-17T11:58:21.206910Z",
     "start_time": "2022-01-17T11:58:17.260326Z"
    }
   },
   "outputs": [
    {
     "data": {
      "text/plain": [
       "[-22.86, -34.83, -36.01, -36.29, -35.56, -33.11]"
      ]
     },
     "execution_count": 58,
     "metadata": {},
     "output_type": "execute_result"
    }
   ],
   "source": [
    "SpecVar_error(JFET_Med_Gain_D3_String_Lo, Vox_Med_Gain_D3_String_Lo, Frame_Size=FRAME_SIZE, Hop_length=HOP_SIZE, sr=sr)"
   ]
  },
  {
   "cell_type": "markdown",
   "id": "074ce662",
   "metadata": {},
   "source": [
    "### Low Gain"
   ]
  },
  {
   "cell_type": "code",
   "execution_count": 59,
   "id": "04dc05d7",
   "metadata": {
    "ExecuteTime": {
     "end_time": "2022-01-17T11:58:25.133477Z",
     "start_time": "2022-01-17T11:58:21.207912Z"
    },
    "scrolled": false
   },
   "outputs": [
    {
     "data": {
      "text/plain": [
       "[-23.96, -30.94, -32.02, -32.28, -31.63, -30.17]"
      ]
     },
     "execution_count": 59,
     "metadata": {},
     "output_type": "execute_result"
    }
   ],
   "source": [
    "SpecVar_error(JFET_Low_Gain_D3_String_Lo, Vox_Low_Gain_D3_String_Lo, Frame_Size=FRAME_SIZE, Hop_length=HOP_SIZE, sr=sr)"
   ]
  },
  {
   "cell_type": "code",
   "execution_count": 60,
   "id": "0e5b58a0",
   "metadata": {
    "ExecuteTime": {
     "end_time": "2022-01-17T11:58:27.097856Z",
     "start_time": "2022-01-17T11:58:25.133477Z"
    }
   },
   "outputs": [],
   "source": [
    "SV_Vox_Hi_Gain_E_Chord_Hi = SpectralVariation(Vox_Hi_Gain_E_Chord_Hi, frame_size=FRAME_SIZE, hop_length=HOP_SIZE)"
   ]
  },
  {
   "cell_type": "code",
   "execution_count": 61,
   "id": "b4a46b0f",
   "metadata": {
    "ExecuteTime": {
     "end_time": "2022-01-17T11:58:29.047624Z",
     "start_time": "2022-01-17T11:58:27.097856Z"
    }
   },
   "outputs": [],
   "source": [
    "SV_JFET_Hi_Gain_E_Chord_Hi = SpectralVariation(JFET_Hi_Gain_E_Chord_Hi, frame_size=FRAME_SIZE, hop_length=HOP_SIZE)"
   ]
  },
  {
   "cell_type": "code",
   "execution_count": 62,
   "id": "a49bda76",
   "metadata": {
    "ExecuteTime": {
     "end_time": "2022-01-17T11:58:29.063639Z",
     "start_time": "2022-01-17T11:58:29.048625Z"
    }
   },
   "outputs": [],
   "source": [
    "frames = range(len(SV_JFET_Hi_Gain_E_Chord_Hi))\n",
    "t = librosa.frames_to_time(frames,  hop_length=HOP_SIZE, sr=sr)"
   ]
  },
  {
   "cell_type": "code",
   "execution_count": 63,
   "id": "4083ff43",
   "metadata": {
    "ExecuteTime": {
     "end_time": "2022-01-17T11:58:29.463002Z",
     "start_time": "2022-01-17T11:58:29.064640Z"
    }
   },
   "outputs": [
    {
     "data": {
      "text/plain": [
       "<function matplotlib.pyplot.show(close=None, block=None)>"
      ]
     },
     "execution_count": 63,
     "metadata": {},
     "output_type": "execute_result"
    },
    {
     "data": {
      "image/png": "[encoded data removed]",
      "text/plain": [
       "<Figure size 1080x576 with 1 Axes>"
      ]
     },
     "metadata": {
      "needs_background": "light"
     },
     "output_type": "display_data"
    }
   ],
   "source": [
    "plt.figure(figsize=(15,8))\n",
    "\n",
    "plt.plot(t, SV_Vox_Hi_Gain_E_Chord_Hi, color='b', label = 'Vox Chord')\n",
    "plt.plot(t, SV_JFET_Hi_Gain_E_Chord_Hi, color='r', label = 'Dry DI Chord')\n",
    "#plt.plot(t, FetChord_specvar, color= 'g', label= 'JFET Chord')\n",
    "\n",
    "#plt.plot(t, sv_Vox_plus_50, \"--\", color='lightseagreen', label=\"Vox Chord +- 50%\")\n",
    "#plt.plot(t, sv_Vox_minus_50, \"--\", color='lightseagreen')\n",
    "\n",
    "\n",
    "\n",
    "#plt.ylim(0,)\n",
    "plt.xlim(-0.05,5)\n",
    "\n",
    "plt.title(\"Spectral Variation\")\n",
    "plt.ylabel(\"Correlation Coeff\")\n",
    "plt.xlabel('Time (s)')\n",
    "plt.legend(fontsize=20)\n",
    "plt.semilogy()\n",
    "\n",
    "plt.show"
   ]
  },
  {
   "cell_type": "code",
   "execution_count": 64,
   "id": "b07bff8a",
   "metadata": {
    "ExecuteTime": {
     "end_time": "2022-01-17T11:58:31.412056Z",
     "start_time": "2022-01-17T11:58:29.463002Z"
    }
   },
   "outputs": [],
   "source": [
    "SV_Dry_E_Chord_Hi = SpectralVariation(Dry_E_Chord_Hi, frame_size=FRAME_SIZE, hop_length=HOP_SIZE)"
   ]
  },
  {
   "cell_type": "code",
   "execution_count": 65,
   "id": "e8a3e603",
   "metadata": {
    "ExecuteTime": {
     "end_time": "2022-01-17T11:58:33.372837Z",
     "start_time": "2022-01-17T11:58:31.412056Z"
    }
   },
   "outputs": [],
   "source": [
    "SV_Vox_Med_Gain_E_Chord_Hi = SpectralVariation(Vox_Med_Gain_E_Chord_Hi, frame_size=FRAME_SIZE, hop_length=HOP_SIZE)"
   ]
  },
  {
   "cell_type": "code",
   "execution_count": 66,
   "id": "5b6969c8",
   "metadata": {
    "ExecuteTime": {
     "end_time": "2022-01-17T11:58:35.338615Z",
     "start_time": "2022-01-17T11:58:33.373838Z"
    }
   },
   "outputs": [],
   "source": [
    "SV_JFET_Med_Gain_E_Chord_Hi = SpectralVariation(JFET_Med_Gain_E_Chord_Hi, frame_size=FRAME_SIZE, hop_length=HOP_SIZE)"
   ]
  },
  {
   "cell_type": "code",
   "execution_count": 67,
   "id": "35582d1f",
   "metadata": {
    "ExecuteTime": {
     "end_time": "2022-01-17T11:58:35.545803Z",
     "start_time": "2022-01-17T11:58:35.338615Z"
    }
   },
   "outputs": [
    {
     "data": {
      "text/plain": [
       "<function matplotlib.pyplot.show(close=None, block=None)>"
      ]
     },
     "execution_count": 67,
     "metadata": {},
     "output_type": "execute_result"
    },
    {
     "data": {
      "image/png": "[encoded data removed]",
      "text/plain": [
       "<Figure size 1080x576 with 1 Axes>"
      ]
     },
     "metadata": {
      "needs_background": "light"
     },
     "output_type": "display_data"
    }
   ],
   "source": [
    "plt.figure(figsize=(15,8))\n",
    "\n",
    "plt.plot(t, SV_Vox_Med_Gain_E_Chord_Hi, color='b', label = 'Vox Chord')\n",
    "plt.plot(t, SV_JFET_Med_Gain_E_Chord_Hi, color='r', label = 'JFET Chord')\n",
    "plt.plot(t, SV_Dry_E_Chord_Hi, color= 'g', label= 'DI Chord')\n",
    "\n",
    "#plt.plot(t, sv_Vox_plus_50, \"--\", color='lightseagreen', label=\"Vox Chord +- 50%\")\n",
    "#plt.plot(t, sv_Vox_minus_50, \"--\", color='lightseagreen')\n",
    "\n",
    "\n",
    "\n",
    "#plt.ylim(0,0.01)\n",
    "plt.xlim(-0.05,5)\n",
    "\n",
    "plt.title(\"Spectral Variation\")\n",
    "plt.ylabel(\"Correlation Coeff\")\n",
    "plt.xlabel('Time (s)')\n",
    "plt.legend(fontsize=20)\n",
    "plt.semilogy()\n",
    "\n",
    "plt.show"
   ]
  },
  {
   "cell_type": "code",
   "execution_count": 68,
   "id": "0b9abf05",
   "metadata": {
    "ExecuteTime": {
     "end_time": "2022-01-17T11:58:35.561817Z",
     "start_time": "2022-01-17T11:58:35.551808Z"
    }
   },
   "outputs": [
    {
     "data": {
      "text/plain": [
       "range(0, 234)"
      ]
     },
     "execution_count": 68,
     "metadata": {},
     "output_type": "execute_result"
    }
   ],
   "source": [
    "range(len(SV_JFET_Med_Gain_E_Chord_Hi))"
   ]
  },
  {
   "cell_type": "code",
   "execution_count": 69,
   "id": "b2c6205d",
   "metadata": {
    "ExecuteTime": {
     "end_time": "2022-01-17T11:58:35.577832Z",
     "start_time": "2022-01-17T11:58:35.564820Z"
    }
   },
   "outputs": [
    {
     "data": {
      "text/plain": [
       "234"
      ]
     },
     "execution_count": 69,
     "metadata": {},
     "output_type": "execute_result"
    }
   ],
   "source": [
    "librosa.time_to_frames(5, hop_length=HOP_SIZE, sr=sr )"
   ]
  },
  {
   "cell_type": "code",
   "execution_count": 70,
   "id": "7ef40345",
   "metadata": {
    "ExecuteTime": {
     "end_time": "2022-01-17T11:58:37.527593Z",
     "start_time": "2022-01-17T11:58:35.578833Z"
    }
   },
   "outputs": [],
   "source": [
    "SV_Vox_Med_Gain_E2_String_Hi = SpectralVariation(Vox_Med_Gain_E2_String_Hi, frame_size=FRAME_SIZE, hop_length=HOP_SIZE)"
   ]
  },
  {
   "cell_type": "code",
   "execution_count": 71,
   "id": "f3ea570b",
   "metadata": {
    "ExecuteTime": {
     "end_time": "2022-01-17T11:58:39.491377Z",
     "start_time": "2022-01-17T11:58:37.528595Z"
    }
   },
   "outputs": [],
   "source": [
    "SV_JFET_Med_Gain_E2_String_Hi = SpectralVariation(JFET_Med_Gain_E2_String_Hi, frame_size=FRAME_SIZE, hop_length=HOP_SIZE)"
   ]
  },
  {
   "cell_type": "code",
   "execution_count": 72,
   "id": "440fd030",
   "metadata": {
    "ExecuteTime": {
     "end_time": "2022-01-17T11:58:41.442966Z",
     "start_time": "2022-01-17T11:58:39.492378Z"
    }
   },
   "outputs": [],
   "source": [
    "SV_Dry_E2_String_Hi = SpectralVariation(Dry_E2_String_Hi, frame_size=FRAME_SIZE, hop_length=HOP_SIZE)"
   ]
  },
  {
   "cell_type": "code",
   "execution_count": 73,
   "id": "313e7deb",
   "metadata": {
    "ExecuteTime": {
     "end_time": "2022-01-17T11:58:41.729255Z",
     "start_time": "2022-01-17T11:58:41.443977Z"
    }
   },
   "outputs": [
    {
     "data": {
      "text/plain": [
       "<function matplotlib.pyplot.show(close=None, block=None)>"
      ]
     },
     "execution_count": 73,
     "metadata": {},
     "output_type": "execute_result"
    },
    {
     "data": {
      "image/png": "[encoded data removed]",
      "text/plain": [
       "<Figure size 1080x576 with 1 Axes>"
      ]
     },
     "metadata": {
      "needs_background": "light"
     },
     "output_type": "display_data"
    }
   ],
   "source": [
    "plt.figure(figsize=(15,8))\n",
    "\n",
    "plt.plot(t, SV_Vox_Med_Gain_E2_String_Hi, color='b', label = 'Vox E2 String')\n",
    "plt.plot(t, SV_JFET_Med_Gain_E2_String_Hi, color='r', label = 'JFET E2 String')\n",
    "plt.plot(t, SV_Dry_E2_String_Hi, color= 'g', label= 'DI E2 String')\n",
    "\n",
    "#plt.plot(t, sv_Vox_plus_50, \"--\", color='lightseagreen', label=\"Vox Chord +- 50%\")\n",
    "#plt.plot(t, sv_Vox_minus_50, \"--\", color='lightseagreen')\n",
    "\n",
    "\n",
    "\n",
    "#plt.ylim(0,0.01)\n",
    "plt.xlim(-0.05,5)\n",
    "\n",
    "plt.title(\"Spectral Variation\")\n",
    "plt.ylabel(\"Correlation Coeff\")\n",
    "plt.xlabel('Time (s)')\n",
    "plt.legend(fontsize=20)\n",
    "plt.semilogy()\n",
    "\n",
    "plt.show"
   ]
  },
  {
   "cell_type": "code",
   "execution_count": null,
   "id": "e0404934",
   "metadata": {},
   "outputs": [],
   "source": []
  },
  {
   "cell_type": "code",
   "execution_count": 74,
   "id": "44aca481",
   "metadata": {
    "ExecuteTime": {
     "end_time": "2022-01-17T11:58:43.690838Z",
     "start_time": "2022-01-17T11:58:41.729255Z"
    }
   },
   "outputs": [],
   "source": [
    "SV_Vox_Low_Gain_E2_String_Hi = SpectralVariation(Vox_Low_Gain_E2_String_Hi, frame_size=FRAME_SIZE, hop_length=HOP_SIZE)"
   ]
  },
  {
   "cell_type": "code",
   "execution_count": 75,
   "id": "61dc49c1",
   "metadata": {
    "ExecuteTime": {
     "end_time": "2022-01-17T11:58:45.659621Z",
     "start_time": "2022-01-17T11:58:43.691840Z"
    }
   },
   "outputs": [],
   "source": [
    "SV_JFET_Low_Gain_E2_String_Hi = SpectralVariation(JFET_Low_Gain_E2_String_Hi, frame_size=FRAME_SIZE, hop_length=HOP_SIZE)"
   ]
  },
  {
   "cell_type": "code",
   "execution_count": 76,
   "id": "c1a30436",
   "metadata": {
    "ExecuteTime": {
     "end_time": "2022-01-17T11:58:47.610794Z",
     "start_time": "2022-01-17T11:58:45.660621Z"
    }
   },
   "outputs": [],
   "source": [
    "SV_Dry_E2_String_Hi = SpectralVariation(Dry_E2_String_Hi, frame_size=FRAME_SIZE, hop_length=HOP_SIZE)"
   ]
  },
  {
   "cell_type": "code",
   "execution_count": 77,
   "id": "4d3fd9f4",
   "metadata": {
    "ExecuteTime": {
     "end_time": "2022-01-17T11:58:47.863094Z",
     "start_time": "2022-01-17T11:58:47.611064Z"
    }
   },
   "outputs": [
    {
     "data": {
      "text/plain": [
       "<function matplotlib.pyplot.show(close=None, block=None)>"
      ]
     },
     "execution_count": 77,
     "metadata": {},
     "output_type": "execute_result"
    },
    {
     "data": {
      "image/png": "[encoded data removed]",
      "text/plain": [
       "<Figure size 1080x576 with 1 Axes>"
      ]
     },
     "metadata": {
      "needs_background": "light"
     },
     "output_type": "display_data"
    }
   ],
   "source": [
    "plt.figure(figsize=(15,8))\n",
    "\n",
    "plt.plot(t, SV_Vox_Low_Gain_E2_String_Hi, color='b', label = 'Vox E2 String')\n",
    "plt.plot(t, SV_JFET_Low_Gain_E2_String_Hi, color='r', label = 'JFET E2 String')\n",
    "plt.plot(t, SV_Dry_E2_String_Hi, color= 'g', label= 'DI E2 String')\n",
    "\n",
    "#plt.plot(t, sv_Vox_plus_50, \"--\", color='lightseagreen', label=\"Vox Chord +- 50%\")\n",
    "#plt.plot(t, sv_Vox_minus_50, \"--\", color='lightseagreen')\n",
    "\n",
    "\n",
    "\n",
    "#plt.ylim(0,0.01)\n",
    "plt.xlim(-0.05,5)\n",
    "\n",
    "plt.title(\"Spectral Variation Low Gain High Intensity E2 String\")\n",
    "plt.ylabel(\"Correlation Coeff\")\n",
    "plt.xlabel('Time (s)')\n",
    "plt.legend(fontsize=20)\n",
    "plt.semilogy()\n",
    "\n",
    "plt.show"
   ]
  },
  {
   "cell_type": "code",
   "execution_count": null,
   "id": "f386c12a",
   "metadata": {},
   "outputs": [],
   "source": []
  },
  {
   "cell_type": "code",
   "execution_count": 78,
   "id": "e144192b",
   "metadata": {
    "ExecuteTime": {
     "end_time": "2022-01-17T11:58:49.831262Z",
     "start_time": "2022-01-17T11:58:47.864095Z"
    }
   },
   "outputs": [],
   "source": [
    "SV_Vox_Med_Gain_D_Chord_Med = SpectralVariation(Vox_Med_Gain_D_Chord_Med, frame_size=FRAME_SIZE, hop_length=HOP_SIZE)"
   ]
  },
  {
   "cell_type": "code",
   "execution_count": 79,
   "id": "8b4b31a0",
   "metadata": {
    "ExecuteTime": {
     "end_time": "2022-01-17T11:58:51.782027Z",
     "start_time": "2022-01-17T11:58:49.832264Z"
    }
   },
   "outputs": [],
   "source": [
    "SV_JFET_Med_Gain_D_Chord_Med = SpectralVariation(JFET_Med_Gain_D_Chord_Med, frame_size=FRAME_SIZE, hop_length=HOP_SIZE)"
   ]
  },
  {
   "cell_type": "code",
   "execution_count": 80,
   "id": "89ed6136",
   "metadata": {
    "ExecuteTime": {
     "end_time": "2022-01-17T11:58:53.727795Z",
     "start_time": "2022-01-17T11:58:51.783029Z"
    }
   },
   "outputs": [],
   "source": [
    "SV_Dry_D_Chord_Med = SpectralVariation(Dry_D_Chord_Med, frame_size=FRAME_SIZE, hop_length=HOP_SIZE)"
   ]
  },
  {
   "cell_type": "code",
   "execution_count": 81,
   "id": "b9b69d20",
   "metadata": {
    "ExecuteTime": {
     "end_time": "2022-01-17T11:58:54.031071Z",
     "start_time": "2022-01-17T11:58:53.728797Z"
    }
   },
   "outputs": [
    {
     "data": {
      "text/plain": [
       "<function matplotlib.pyplot.show(close=None, block=None)>"
      ]
     },
     "execution_count": 81,
     "metadata": {},
     "output_type": "execute_result"
    },
    {
     "data": {
      "image/png": "[encoded data removed]",
      "text/plain": [
       "<Figure size 1080x576 with 1 Axes>"
      ]
     },
     "metadata": {
      "needs_background": "light"
     },
     "output_type": "display_data"
    }
   ],
   "source": [
    "plt.figure(figsize=(15,8))\n",
    "\n",
    "plt.plot(t, SV_Vox_Med_Gain_D_Chord_Med, color='b', label = 'Vox')\n",
    "plt.plot(t, SV_JFET_Med_Gain_D_Chord_Med, color='r', label = 'JFET')\n",
    "plt.plot(t, SV_Dry_D_Chord_Med, color= 'g', label= 'DI')\n",
    "\n",
    "#plt.plot(t, sv_Vox_plus_50, \"--\", color='lightseagreen', label=\"Vox Chord +- 50%\")\n",
    "#plt.plot(t, sv_Vox_minus_50, \"--\", color='lightseagreen')\n",
    "\n",
    "\n",
    "\n",
    "#plt.ylim(0,0.01)\n",
    "plt.xlim(-0.05,5)\n",
    "\n",
    "plt.title(\"Spectral Variation of Medium Gain Medium Intensity D Chord\")\n",
    "plt.ylabel(\"Correlation Coeff\")\n",
    "plt.xlabel('Time (s)')\n",
    "plt.legend(fontsize=20)\n",
    "plt.semilogy()\n",
    "\n",
    "plt.show"
   ]
  },
  {
   "cell_type": "code",
   "execution_count": null,
   "id": "663de8a9",
   "metadata": {},
   "outputs": [],
   "source": []
  },
  {
   "cell_type": "code",
   "execution_count": 82,
   "id": "0dd182c5",
   "metadata": {
    "ExecuteTime": {
     "end_time": "2022-01-17T11:58:55.975834Z",
     "start_time": "2022-01-17T11:58:54.032072Z"
    }
   },
   "outputs": [],
   "source": [
    "SV_Vox_Low_Gain_E4_String_Hi = SpectralVariation(Vox_Low_Gain_E4_String_Hi, frame_size=FRAME_SIZE, hop_length=HOP_SIZE)"
   ]
  },
  {
   "cell_type": "code",
   "execution_count": 83,
   "id": "60a50e2b",
   "metadata": {
    "ExecuteTime": {
     "end_time": "2022-01-17T11:58:57.921404Z",
     "start_time": "2022-01-17T11:58:55.976837Z"
    }
   },
   "outputs": [],
   "source": [
    "SV_JFET_Low_Gain_E4_String_Hi = SpectralVariation(JFET_Low_Gain_E4_String_Hi, frame_size=FRAME_SIZE, hop_length=HOP_SIZE)"
   ]
  },
  {
   "cell_type": "code",
   "execution_count": 84,
   "id": "f1c82347",
   "metadata": {
    "ExecuteTime": {
     "end_time": "2022-01-17T11:58:59.878182Z",
     "start_time": "2022-01-17T11:58:57.922405Z"
    }
   },
   "outputs": [],
   "source": [
    "SV_Dry_E4_String_Hi = SpectralVariation(Dry_E4_String_Hi, frame_size=FRAME_SIZE, hop_length=HOP_SIZE)"
   ]
  },
  {
   "cell_type": "code",
   "execution_count": 85,
   "id": "b0c5a452",
   "metadata": {
    "ExecuteTime": {
     "end_time": "2022-01-17T11:59:00.149428Z",
     "start_time": "2022-01-17T11:58:59.879183Z"
    }
   },
   "outputs": [
    {
     "data": {
      "text/plain": [
       "<function matplotlib.pyplot.show(close=None, block=None)>"
      ]
     },
     "execution_count": 85,
     "metadata": {},
     "output_type": "execute_result"
    },
    {
     "data": {
      "image/png": "[encoded data removed]",
      "text/plain": [
       "<Figure size 1080x576 with 1 Axes>"
      ]
     },
     "metadata": {
      "needs_background": "light"
     },
     "output_type": "display_data"
    }
   ],
   "source": [
    "plt.figure(figsize=(15,8))\n",
    "\n",
    "plt.plot(t, SV_Vox_Low_Gain_E4_String_Hi, color='b', label = 'Vox')\n",
    "plt.plot(t, SV_JFET_Low_Gain_E4_String_Hi, color='r', label = 'JFET')\n",
    "plt.plot(t, SV_Dry_E4_String_Hi, color= 'g', label= 'DI')\n",
    "\n",
    "#plt.plot(t, sv_Vox_plus_50, \"--\", color='lightseagreen', label=\"Vox Chord +- 50%\")\n",
    "#plt.plot(t, sv_Vox_minus_50, \"--\", color='lightseagreen')\n",
    "\n",
    "\n",
    "\n",
    "#plt.ylim(0,0.01)\n",
    "plt.xlim(-0.05,5)\n",
    "\n",
    "plt.title(\"Spectral Variation of Low Gain High Intensity E4 String\")\n",
    "plt.ylabel(\"Correlation Coeff\")\n",
    "plt.xlabel('Time (s)')\n",
    "plt.legend(fontsize=20)\n",
    "plt.semilogy()\n",
    "\n",
    "plt.show"
   ]
  },
  {
   "cell_type": "code",
   "execution_count": null,
   "id": "e2667837",
   "metadata": {},
   "outputs": [],
   "source": []
  }
 ],
 "metadata": {
  "hide_input": false,
  "kernelspec": {
   "display_name": "Python 3",
   "language": "python",
   "name": "python3"
  },
  "language_info": {
   "codemirror_mode": {
    "name": "ipython",
    "version": 3
   },
   "file_extension": ".py",
   "mimetype": "text/x-python",
   "name": "python",
   "nbconvert_exporter": "python",
   "pygments_lexer": "ipython3",
   "version": "3.8.8"
  },
  "toc": {
   "base_numbering": 1,
   "nav_menu": {},
   "number_sections": true,
   "sideBar": true,
   "skip_h1_title": false,
   "title_cell": "Table of Contents",
   "title_sidebar": "Contents",
   "toc_cell": false,
   "toc_position": {},
   "toc_section_display": true,
   "toc_window_display": false
  },
  "varInspector": {
   "cols": {
    "lenName": 16,
    "lenType": 16,
    "lenVar": 40
   },
   "kernels_config": {
    "python": {
     "delete_cmd_postfix": "",
     "delete_cmd_prefix": "del ",
     "library": "var_list.py",
     "varRefreshCmd": "print(var_dic_list())"
    },
    "r": {
     "delete_cmd_postfix": ") ",
     "delete_cmd_prefix": "rm(",
     "library": "var_list.r",
     "varRefreshCmd": "cat(var_dic_list()) "
    }
   },
   "types_to_exclude": [
    "module",
    "function",
    "builtin_function_or_method",
    "instance",
    "_Feature"
   ],
   "window_display": false
  }
 },
 "nbformat": 4,
 "nbformat_minor": 5
}
